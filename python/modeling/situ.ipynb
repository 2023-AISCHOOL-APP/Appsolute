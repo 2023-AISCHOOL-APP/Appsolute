{
 "cells": [
  {
   "cell_type": "code",
   "execution_count": 1,
   "id": "ab828301-fe63-4293-a4e3-e901e210c558",
   "metadata": {},
   "outputs": [
    {
     "name": "stderr",
     "output_type": "stream",
     "text": [
      "2023-11-27 12:25:13.068778: I tensorflow/core/util/port.cc:110] oneDNN custom operations are on. You may see slightly different numerical results due to floating-point round-off errors from different computation orders. To turn them off, set the environment variable `TF_ENABLE_ONEDNN_OPTS=0`.\n",
      "2023-11-27 12:25:13.120401: I tensorflow/core/platform/cpu_feature_guard.cc:182] This TensorFlow binary is optimized to use available CPU instructions in performance-critical operations.\n",
      "To enable the following instructions: AVX2 AVX512F AVX512_VNNI AVX512_BF16 AVX_VNNI FMA, in other operations, rebuild TensorFlow with the appropriate compiler flags.\n"
     ]
    }
   ],
   "source": [
    "import numpy as np\n",
    "import pandas as pd\n",
    "import warnings\n",
    "import tensorflow as tf\n",
    "from sklearn.model_selection import train_test_split\n",
    "from transformers import BertTokenizer, TFBertModel\n",
    "# 경고 메시지 무시\n",
    "warnings.filterwarnings('ignore')\n"
   ]
  },
  {
   "cell_type": "code",
   "execution_count": 2,
   "id": "410436a4-8dff-49e2-ba2b-cd9ad5cc219d",
   "metadata": {},
   "outputs": [],
   "source": [
    "# 데이터 로드\n",
    "data = pd.read_csv(\"./data/situation.csv\")\n",
    "data = data.drop(columns=[\"Unnamed: 0\"])"
   ]
  },
  {
   "cell_type": "code",
   "execution_count": 3,
   "id": "42be5352-97db-4e19-bde6-f990755c58f9",
   "metadata": {},
   "outputs": [],
   "source": [
    "import pandas as pd\n",
    "\n",
    "# 새로운 데이터프레임 생성\n",
    "data1 = pd.DataFrame()\n",
    "data2 = pd.DataFrame()\n",
    "\n",
    "# 원래 가사를 절반으로 나누어 두 데이터프레임에 추가\n",
    "for i in range(len(data[\"가사\"])):\n",
    "    list1 = list(data[\"가사\"][i].split(\" \"))\n",
    "    half_length = len(list1) // 2\n",
    "    first_half = \" \".join(list1[:half_length])\n",
    "    second_half = \" \".join(list1[half_length:])\n",
    "    \n",
    "    # 첫 번째 데이터프레임에 추가\n",
    "    data1.loc[i, \"가사\"] = first_half\n",
    "    data1.loc[i,\"태그\"]=data[\"태그\"][i]\n",
    "    # 두 번째 데이터프레임에 추가\n",
    "    data2.loc[i, \"가사\"] = second_half\n",
    "    data2.loc[i,\"태그\"]=data[\"태그\"][i]\n",
    "# 두 데이터프레임 합치기\n",
    "data = pd.concat([data1, data2], axis=0)"
   ]
  },
  {
   "cell_type": "code",
   "execution_count": 4,
   "id": "2f4ef11f-887c-457c-8d4c-fa02a0159c9b",
   "metadata": {},
   "outputs": [
    {
     "data": {
      "text/html": [
       "<div>\n",
       "<style scoped>\n",
       "    .dataframe tbody tr th:only-of-type {\n",
       "        vertical-align: middle;\n",
       "    }\n",
       "\n",
       "    .dataframe tbody tr th {\n",
       "        vertical-align: top;\n",
       "    }\n",
       "\n",
       "    .dataframe thead th {\n",
       "        text-align: right;\n",
       "    }\n",
       "</style>\n",
       "<table border=\"1\" class=\"dataframe\">\n",
       "  <thead>\n",
       "    <tr style=\"text-align: right;\">\n",
       "      <th></th>\n",
       "      <th>가사</th>\n",
       "      <th>태그</th>\n",
       "    </tr>\n",
       "  </thead>\n",
       "  <tbody>\n",
       "    <tr>\n",
       "      <th>0</th>\n",
       "      <td>Whats the use if youre nothing without it What...</td>\n",
       "      <td>drive</td>\n",
       "    </tr>\n",
       "    <tr>\n",
       "      <th>1</th>\n",
       "      <td>아득해 문제를 풀던 날들 아직도 어색해 이런 말을 전달하는 게 sometimes I...</td>\n",
       "      <td>drive</td>\n",
       "    </tr>\n",
       "    <tr>\n",
       "      <th>2</th>\n",
       "      <td>Back against the wall 차가운 blue in my blood 하늘은...</td>\n",
       "      <td>drive</td>\n",
       "    </tr>\n",
       "    <tr>\n",
       "      <th>3</th>\n",
       "      <td>창밖엔 비가 내려요 오늘 밤 사랑의 노래 따윈 없다고 떠들고 다닌 내가 좀 한심해져...</td>\n",
       "      <td>drive</td>\n",
       "    </tr>\n",
       "    <tr>\n",
       "      <th>4</th>\n",
       "      <td>oh nothing without yeah Im nothing without you...</td>\n",
       "      <td>drive</td>\n",
       "    </tr>\n",
       "    <tr>\n",
       "      <th>...</th>\n",
       "      <td>...</td>\n",
       "      <td>...</td>\n",
       "    </tr>\n",
       "    <tr>\n",
       "      <th>4253</th>\n",
       "      <td>아 바다라고 했던가 그럼 내 눈물 모두 버릴 수 있나  길을 터 보일게 나를 베어도...</td>\n",
       "      <td>walking</td>\n",
       "    </tr>\n",
       "    <tr>\n",
       "      <th>4254</th>\n",
       "      <td>토닥여주고 싶었다고 달래주고 싶었다고 토닥여주고 싶었다고 워 하나 하나 둘 하나 하...</td>\n",
       "      <td>walking</td>\n",
       "    </tr>\n",
       "    <tr>\n",
       "      <th>4255</th>\n",
       "      <td>저 바닷속 안에 예쁜 꿈을 꾸어 입어요 가시 돋친 말들을 삼키고서 뱉어내면 자라는 ...</td>\n",
       "      <td>walking</td>\n",
       "    </tr>\n",
       "    <tr>\n",
       "      <th>4256</th>\n",
       "      <td>태워버리다가 남김없이 사라져버릴까 차가운 말 시려워지는 맘 가는 길에 다 두고 내릴...</td>\n",
       "      <td>walking</td>\n",
       "    </tr>\n",
       "    <tr>\n",
       "      <th>4257</th>\n",
       "      <td>밤안개 짙어진 뒤 훔치려고 모인 자경단 난 난 오늘 떠날 거라고 생각했어 날 미워하...</td>\n",
       "      <td>walking</td>\n",
       "    </tr>\n",
       "  </tbody>\n",
       "</table>\n",
       "<p>8516 rows × 2 columns</p>\n",
       "</div>"
      ],
      "text/plain": [
       "                                                     가사       태그\n",
       "0     Whats the use if youre nothing without it What...    drive\n",
       "1     아득해 문제를 풀던 날들 아직도 어색해 이런 말을 전달하는 게 sometimes I...    drive\n",
       "2     Back against the wall 차가운 blue in my blood 하늘은...    drive\n",
       "3     창밖엔 비가 내려요 오늘 밤 사랑의 노래 따윈 없다고 떠들고 다닌 내가 좀 한심해져...    drive\n",
       "4     oh nothing without yeah Im nothing without you...    drive\n",
       "...                                                 ...      ...\n",
       "4253  아 바다라고 했던가 그럼 내 눈물 모두 버릴 수 있나  길을 터 보일게 나를 베어도...  walking\n",
       "4254  토닥여주고 싶었다고 달래주고 싶었다고 토닥여주고 싶었다고 워 하나 하나 둘 하나 하...  walking\n",
       "4255  저 바닷속 안에 예쁜 꿈을 꾸어 입어요 가시 돋친 말들을 삼키고서 뱉어내면 자라는 ...  walking\n",
       "4256  태워버리다가 남김없이 사라져버릴까 차가운 말 시려워지는 맘 가는 길에 다 두고 내릴...  walking\n",
       "4257  밤안개 짙어진 뒤 훔치려고 모인 자경단 난 난 오늘 떠날 거라고 생각했어 날 미워하...  walking\n",
       "\n",
       "[8516 rows x 2 columns]"
      ]
     },
     "execution_count": 4,
     "metadata": {},
     "output_type": "execute_result"
    }
   ],
   "source": [
    "data"
   ]
  },
  {
   "cell_type": "code",
   "execution_count": 5,
   "id": "1d225d26-41cd-4a21-ae9a-167d8897b5c6",
   "metadata": {},
   "outputs": [
    {
     "name": "stderr",
     "output_type": "stream",
     "text": [
      "2023-11-27 12:25:27.859147: I tensorflow/compiler/xla/stream_executor/cuda/cuda_gpu_executor.cc:996] successful NUMA node read from SysFS had negative value (-1), but there must be at least one NUMA node, so returning NUMA node zero. See more at https://github.com/torvalds/linux/blob/v6.0/Documentation/ABI/testing/sysfs-bus-pci#L344-L355\n",
      "2023-11-27 12:25:27.866712: I tensorflow/compiler/xla/stream_executor/cuda/cuda_gpu_executor.cc:996] successful NUMA node read from SysFS had negative value (-1), but there must be at least one NUMA node, so returning NUMA node zero. See more at https://github.com/torvalds/linux/blob/v6.0/Documentation/ABI/testing/sysfs-bus-pci#L344-L355\n",
      "2023-11-27 12:25:27.869445: I tensorflow/compiler/xla/stream_executor/cuda/cuda_gpu_executor.cc:996] successful NUMA node read from SysFS had negative value (-1), but there must be at least one NUMA node, so returning NUMA node zero. See more at https://github.com/torvalds/linux/blob/v6.0/Documentation/ABI/testing/sysfs-bus-pci#L344-L355\n",
      "2023-11-27 12:25:27.872063: W tensorflow/core/common_runtime/gpu/gpu_device.cc:2048] TensorFlow was not built with CUDA kernel binaries compatible with compute capability 9.0. CUDA kernels will be jit-compiled from PTX, which could take 30 minutes or longer.\n",
      "2023-11-27 12:25:27.873256: I tensorflow/compiler/xla/stream_executor/cuda/cuda_gpu_executor.cc:996] successful NUMA node read from SysFS had negative value (-1), but there must be at least one NUMA node, so returning NUMA node zero. See more at https://github.com/torvalds/linux/blob/v6.0/Documentation/ABI/testing/sysfs-bus-pci#L344-L355\n",
      "2023-11-27 12:25:27.875942: I tensorflow/compiler/xla/stream_executor/cuda/cuda_gpu_executor.cc:996] successful NUMA node read from SysFS had negative value (-1), but there must be at least one NUMA node, so returning NUMA node zero. See more at https://github.com/torvalds/linux/blob/v6.0/Documentation/ABI/testing/sysfs-bus-pci#L344-L355\n",
      "2023-11-27 12:25:27.878602: I tensorflow/compiler/xla/stream_executor/cuda/cuda_gpu_executor.cc:996] successful NUMA node read from SysFS had negative value (-1), but there must be at least one NUMA node, so returning NUMA node zero. See more at https://github.com/torvalds/linux/blob/v6.0/Documentation/ABI/testing/sysfs-bus-pci#L344-L355\n",
      "2023-11-27 12:25:27.881242: W tensorflow/core/common_runtime/gpu/gpu_device.cc:2048] TensorFlow was not built with CUDA kernel binaries compatible with compute capability 9.0. CUDA kernels will be jit-compiled from PTX, which could take 30 minutes or longer.\n",
      "2023-11-27 12:25:28.030296: I tensorflow/compiler/xla/stream_executor/cuda/cuda_gpu_executor.cc:996] successful NUMA node read from SysFS had negative value (-1), but there must be at least one NUMA node, so returning NUMA node zero. See more at https://github.com/torvalds/linux/blob/v6.0/Documentation/ABI/testing/sysfs-bus-pci#L344-L355\n",
      "2023-11-27 12:25:28.031760: I tensorflow/compiler/xla/stream_executor/cuda/cuda_gpu_executor.cc:996] successful NUMA node read from SysFS had negative value (-1), but there must be at least one NUMA node, so returning NUMA node zero. See more at https://github.com/torvalds/linux/blob/v6.0/Documentation/ABI/testing/sysfs-bus-pci#L344-L355\n",
      "2023-11-27 12:25:28.033053: I tensorflow/compiler/xla/stream_executor/cuda/cuda_gpu_executor.cc:996] successful NUMA node read from SysFS had negative value (-1), but there must be at least one NUMA node, so returning NUMA node zero. See more at https://github.com/torvalds/linux/blob/v6.0/Documentation/ABI/testing/sysfs-bus-pci#L344-L355\n",
      "2023-11-27 12:25:28.034354: I tensorflow/core/common_runtime/gpu/gpu_device.cc:1635] Created device /job:localhost/replica:0/task:0/device:GPU:0 with 78942 MB memory:  -> device: 0, name: NVIDIA H100 80GB HBM3, pci bus id: 0000:00:05.0, compute capability: 9.0\n",
      "2023-11-27 12:25:29.589850: I tensorflow/compiler/xla/stream_executor/cuda/cuda_blas.cc:637] TensorFloat-32 will be used for the matrix multiplication. This will only be logged once.\n",
      "Some weights of the PyTorch model were not used when initializing the TF 2.0 model TFBertModel: ['cls.predictions.bias', 'cls.predictions.transform.LayerNorm.weight', 'cls.seq_relationship.weight', 'cls.predictions.transform.LayerNorm.bias', 'cls.predictions.transform.dense.weight', 'cls.predictions.transform.dense.bias', 'cls.seq_relationship.bias']\n",
      "- This IS expected if you are initializing TFBertModel from a PyTorch model trained on another task or with another architecture (e.g. initializing a TFBertForSequenceClassification model from a BertForPreTraining model).\n",
      "- This IS NOT expected if you are initializing TFBertModel from a PyTorch model that you expect to be exactly identical (e.g. initializing a TFBertForSequenceClassification model from a BertForSequenceClassification model).\n",
      "All the weights of TFBertModel were initialized from the PyTorch model.\n",
      "If your task is similar to the task the model of the checkpoint was trained on, you can already use TFBertModel for predictions without further training.\n"
     ]
    }
   ],
   "source": [
    "# BERT 모델 및 토크나이저 로드\n",
    "tokenizer = BertTokenizer.from_pretrained('bert-base-multilingual-cased')\n",
    "bert_model = TFBertModel.from_pretrained('bert-base-multilingual-cased')\n"
   ]
  },
  {
   "cell_type": "code",
   "execution_count": 6,
   "id": "54396a63-b706-4dd6-be97-983c360a6c45",
   "metadata": {},
   "outputs": [],
   "source": [
    "# 감정 태그를 숫자로 매핑\n",
    "tag_mapping = {tag: idx for idx, tag in enumerate(data['태그'].unique())}\n",
    "inverse_tag_mapping = {v: k for k, v in tag_mapping.items()}\n",
    "data['태그_encoded'] = data['태그'].map(tag_mapping)\n",
    "\n",
    "# 데이터 분할\n",
    "train,test= train_test_split(data[[\"가사\",'태그_encoded']], test_size=0.2, random_state=42)"
   ]
  },
  {
   "cell_type": "code",
   "execution_count": 17,
   "id": "3aeeff26-40b5-411d-a7ba-60e28c9ca72a",
   "metadata": {},
   "outputs": [],
   "source": [
    "x_train = tokenizer(\n",
    "    text=train.가사.tolist(),\n",
    "    add_special_tokens=True,\n",
    "    max_length=100,\n",
    "    truncation=True,\n",
    "    padding=True, \n",
    "    return_tensors='tf',\n",
    "    return_token_type_ids = False,\n",
    "    return_attention_mask = True,\n",
    "    verbose = True)\n",
    "\n",
    "\n",
    "x_test = tokenizer(\n",
    "    text=test.가사.tolist(),\n",
    "    add_special_tokens=True,\n",
    "    max_length=100,\n",
    "    truncation=True,\n",
    "    padding=True, \n",
    "    return_tensors='tf',\n",
    "    return_token_type_ids = False,\n",
    "    return_attention_mask = True,\n",
    "    verbose = True)"
   ]
  },
  {
   "cell_type": "code",
   "execution_count": 9,
   "id": "5de5d60f-cde1-449c-b833-0512c254e45f",
   "metadata": {},
   "outputs": [],
   "source": [
    "from tensorflow.keras.optimizers import Adam\n",
    "from tensorflow.keras.callbacks import EarlyStopping\n",
    "from tensorflow.keras.initializers import TruncatedNormal\n",
    "from tensorflow.keras.losses import CategoricalCrossentropy\n",
    "from tensorflow.keras.metrics import CategoricalAccuracy\n",
    "from tensorflow.keras.utils import to_categorical"
   ]
  },
  {
   "cell_type": "code",
   "execution_count": 23,
   "id": "7d6c893c-c60c-44d8-8346-ded192c5c17e",
   "metadata": {},
   "outputs": [],
   "source": [
    "max_len = 100\n",
    "import tensorflow as tf\n",
    "from tensorflow.keras.layers import Input, Dense\n",
    "\n",
    "input_ids = Input(shape=(max_len,), dtype=tf.int32, name=\"input_ids\")\n",
    "input_mask = Input(shape=(max_len,), dtype=tf.int32, name=\"attention_mask\")\n",
    "embeddings = bert_model(input_ids,attention_mask = input_mask)[0] #(0 is the last hidden states,1 means pooler_output)\n",
    "out = tf.keras.layers.GlobalMaxPool1D()(embeddings)\n",
    "out = Dense(1024, activation='relu')(out)\n",
    "out = tf.keras.layers.Dropout(0.3)(out)\n",
    "out = Dense(256, activation='relu')(out)\n",
    "out = tf.keras.layers.Dropout(0.3)(out)\n",
    "out = Dense(64, activation='relu')(out)\n",
    "out = tf.keras.layers.Dropout(0.3)(out)\n",
    "out = Dense(32,activation = 'relu')(out)\n",
    "\n",
    "y = Dense(4,activation = 'softmax')(out)\n",
    "    \n",
    "model = tf.keras.Model(inputs=[input_ids, input_mask], outputs=y)\n",
    "model.layers[2].trainable = True\n",
    "# for training bert our lr must be so small"
   ]
  },
  {
   "cell_type": "code",
   "execution_count": 24,
   "id": "e42eabd3-65ee-43b7-b614-67caf4201a9c",
   "metadata": {},
   "outputs": [],
   "source": [
    "optimizer = tf.keras.optimizers.legacy.Adam(\n",
    "    learning_rate=5e-05, # this learning rate is for bert model , taken from huggingface website \n",
    "    \n",
    "    clipnorm=1.0)\n",
    "\n",
    "# Set loss and metrics\n",
    "loss =CategoricalCrossentropy(from_logits = True)\n",
    "metric = CategoricalAccuracy(),\n",
    "# Compile the model\n",
    "model.compile(\n",
    "    optimizer = optimizer,\n",
    "    loss = loss, \n",
    "    metrics = metric)"
   ]
  },
  {
   "cell_type": "code",
   "execution_count": 25,
   "id": "35523ab7-14d4-44e5-97f7-0d9efdbc9e99",
   "metadata": {},
   "outputs": [
    {
     "name": "stdout",
     "output_type": "stream",
     "text": [
      "Model: \"model_3\"\n",
      "__________________________________________________________________________________________________\n",
      " Layer (type)                   Output Shape         Param #     Connected to                     \n",
      "==================================================================================================\n",
      " input_ids (InputLayer)         [(None, 100)]        0           []                               \n",
      "                                                                                                  \n",
      " attention_mask (InputLayer)    [(None, 100)]        0           []                               \n",
      "                                                                                                  \n",
      " tf_bert_model (TFBertModel)    TFBaseModelOutputWi  177853440   ['input_ids[0][0]',              \n",
      "                                thPoolingAndCrossAt               'attention_mask[0][0]']         \n",
      "                                tentions(last_hidde                                               \n",
      "                                n_state=(None, 100,                                               \n",
      "                                 768),                                                            \n",
      "                                 pooler_output=(Non                                               \n",
      "                                e, 768),                                                          \n",
      "                                 past_key_values=No                                               \n",
      "                                ne, hidden_states=N                                               \n",
      "                                one, attentions=Non                                               \n",
      "                                e, cross_attentions                                               \n",
      "                                =None)                                                            \n",
      "                                                                                                  \n",
      " global_max_pooling1d_3 (Global  (None, 768)         0           ['tf_bert_model[3][0]']          \n",
      " MaxPooling1D)                                                                                    \n",
      "                                                                                                  \n",
      " dense_16 (Dense)               (None, 1024)         787456      ['global_max_pooling1d_3[0][0]'] \n",
      "                                                                                                  \n",
      " dropout_50 (Dropout)           (None, 1024)         0           ['dense_16[0][0]']               \n",
      "                                                                                                  \n",
      " dense_17 (Dense)               (None, 256)          262400      ['dropout_50[0][0]']             \n",
      "                                                                                                  \n",
      " dropout_51 (Dropout)           (None, 256)          0           ['dense_17[0][0]']               \n",
      "                                                                                                  \n",
      " dense_18 (Dense)               (None, 64)           16448       ['dropout_51[0][0]']             \n",
      "                                                                                                  \n",
      " dropout_52 (Dropout)           (None, 64)           0           ['dense_18[0][0]']               \n",
      "                                                                                                  \n",
      " dense_19 (Dense)               (None, 32)           2080        ['dropout_52[0][0]']             \n",
      "                                                                                                  \n",
      " dense_20 (Dense)               (None, 4)            132         ['dense_19[0][0]']               \n",
      "                                                                                                  \n",
      "==================================================================================================\n",
      "Total params: 178,921,956\n",
      "Trainable params: 178,921,956\n",
      "Non-trainable params: 0\n",
      "__________________________________________________________________________________________________\n"
     ]
    }
   ],
   "source": [
    "model.summary()"
   ]
  },
  {
   "cell_type": "code",
   "execution_count": 26,
   "id": "24351542-8df9-468e-9380-9ebd85fa9406",
   "metadata": {},
   "outputs": [
    {
     "name": "stdout",
     "output_type": "stream",
     "text": [
      "Epoch 1/50\n",
      "WARNING:tensorflow:Gradients do not exist for variables ['tf_bert_model/bert/pooler/dense/kernel:0', 'tf_bert_model/bert/pooler/dense/bias:0'] when minimizing the loss. If you're using `model.compile()`, did you forget to provide a `loss` argument?\n",
      "WARNING:tensorflow:Gradients do not exist for variables ['tf_bert_model/bert/pooler/dense/kernel:0', 'tf_bert_model/bert/pooler/dense/bias:0'] when minimizing the loss. If you're using `model.compile()`, did you forget to provide a `loss` argument?\n",
      "107/107 [==============================] - 27s 125ms/step - loss: 1.3693 - categorical_accuracy: 0.2926 - val_loss: 1.3027 - val_categorical_accuracy: 0.3322\n",
      "Epoch 2/50\n",
      "107/107 [==============================] - 11s 100ms/step - loss: 1.2834 - categorical_accuracy: 0.3740 - val_loss: 1.2658 - val_categorical_accuracy: 0.3797\n",
      "Epoch 3/50\n",
      "107/107 [==============================] - 11s 101ms/step - loss: 1.2119 - categorical_accuracy: 0.4131 - val_loss: 1.2596 - val_categorical_accuracy: 0.3727\n",
      "Epoch 4/50\n",
      "107/107 [==============================] - 11s 100ms/step - loss: 1.1453 - categorical_accuracy: 0.4358 - val_loss: 1.1570 - val_categorical_accuracy: 0.4484\n",
      "Epoch 5/50\n",
      "107/107 [==============================] - 11s 102ms/step - loss: 1.0787 - categorical_accuracy: 0.4844 - val_loss: 1.1339 - val_categorical_accuracy: 0.4883\n",
      "Epoch 6/50\n",
      "107/107 [==============================] - 10s 98ms/step - loss: 0.9974 - categorical_accuracy: 0.5270 - val_loss: 1.1427 - val_categorical_accuracy: 0.4531\n",
      "Epoch 7/50\n",
      "107/107 [==============================] - 11s 101ms/step - loss: 0.9089 - categorical_accuracy: 0.5868 - val_loss: 1.0778 - val_categorical_accuracy: 0.5282\n",
      "Epoch 8/50\n",
      "107/107 [==============================] - 10s 97ms/step - loss: 0.8363 - categorical_accuracy: 0.6301 - val_loss: 1.1242 - val_categorical_accuracy: 0.4883\n",
      "Epoch 9/50\n",
      "107/107 [==============================] - 10s 97ms/step - loss: 0.7697 - categorical_accuracy: 0.6850 - val_loss: 1.1771 - val_categorical_accuracy: 0.4935\n",
      "Epoch 10/50\n",
      "107/107 [==============================] - 10s 98ms/step - loss: 0.6786 - categorical_accuracy: 0.7317 - val_loss: 1.3302 - val_categorical_accuracy: 0.4319\n",
      "Epoch 11/50\n",
      "107/107 [==============================] - 10s 98ms/step - loss: 0.6203 - categorical_accuracy: 0.7637 - val_loss: 1.3833 - val_categorical_accuracy: 0.4308\n",
      "Epoch 12/50\n",
      "107/107 [==============================] - 11s 100ms/step - loss: 0.5390 - categorical_accuracy: 0.8122 - val_loss: 1.2548 - val_categorical_accuracy: 0.5117\n"
     ]
    }
   ],
   "source": [
    "# 가사 앞뒤로 나눠서 2배로 늘린 모델\n",
    "from tensorflow.keras.callbacks import EarlyStopping\n",
    "\n",
    "# EarlyStopping 콜백 정의\n",
    "early_stopping = EarlyStopping(monitor='val_loss', patience=5, restore_best_weights=True)\n",
    "\n",
    "# 모델 학습에 EarlyStopping 콜백 적용\n",
    "train_history = model.fit(\n",
    "    x={'input_ids': x_train['input_ids'], 'attention_mask': x_train['attention_mask']},\n",
    "    y=to_categorical(train.태그_encoded),\n",
    "    validation_data=(\n",
    "        {'input_ids': x_test['input_ids'], 'attention_mask': x_test['attention_mask']},\n",
    "        to_categorical(test.태그_encoded)),\n",
    "    epochs=50,\n",
    "    batch_size=64,\n",
    "    callbacks=[early_stopping]\n",
    ")\n"
   ]
  },
  {
   "cell_type": "code",
   "execution_count": 23,
   "id": "dcaed50f-331d-44c0-bc93-a625e860d15f",
   "metadata": {
    "scrolled": true
   },
   "outputs": [
    {
     "name": "stdout",
     "output_type": "stream",
     "text": [
      "Epoch 1/20\n",
      "54/54 [==============================] - 9s 168ms/step - loss: 0.9039 - balanced_accuracy: 0.6110 - val_loss: 1.3529 - val_balanced_accuracy: 0.4601\n",
      "Epoch 2/20\n",
      "54/54 [==============================] - 9s 168ms/step - loss: 0.8630 - balanced_accuracy: 0.6139 - val_loss: 1.4469 - val_balanced_accuracy: 0.4354\n",
      "Epoch 3/20\n",
      "54/54 [==============================] - 9s 168ms/step - loss: 0.8295 - balanced_accuracy: 0.6565 - val_loss: 1.3572 - val_balanced_accuracy: 0.4577\n",
      "Epoch 4/20\n",
      "54/54 [==============================] - 9s 168ms/step - loss: 0.7976 - balanced_accuracy: 0.6826 - val_loss: 1.3877 - val_balanced_accuracy: 0.4777\n",
      "Epoch 5/20\n",
      "54/54 [==============================] - 9s 168ms/step - loss: 0.7305 - balanced_accuracy: 0.7240 - val_loss: 1.5057 - val_balanced_accuracy: 0.4343\n",
      "Epoch 6/20\n",
      "54/54 [==============================] - 9s 169ms/step - loss: 0.7500 - balanced_accuracy: 0.7234 - val_loss: 1.4599 - val_balanced_accuracy: 0.4542\n",
      "Epoch 7/20\n",
      "54/54 [==============================] - 9s 169ms/step - loss: 0.6711 - balanced_accuracy: 0.7713 - val_loss: 1.5047 - val_balanced_accuracy: 0.4425\n",
      "Epoch 8/20\n",
      "54/54 [==============================] - 9s 169ms/step - loss: 0.6411 - balanced_accuracy: 0.7921 - val_loss: 1.5596 - val_balanced_accuracy: 0.4495\n",
      "Epoch 9/20\n",
      "54/54 [==============================] - 9s 170ms/step - loss: 0.5980 - balanced_accuracy: 0.8097 - val_loss: 1.6531 - val_balanced_accuracy: 0.4460\n",
      "Epoch 10/20\n",
      "54/54 [==============================] - 9s 170ms/step - loss: 0.5442 - balanced_accuracy: 0.8426 - val_loss: 1.8043 - val_balanced_accuracy: 0.4331\n",
      "Epoch 11/20\n",
      "54/54 [==============================] - 9s 170ms/step - loss: 0.5446 - balanced_accuracy: 0.8329 - val_loss: 1.8726 - val_balanced_accuracy: 0.4531\n",
      "Epoch 12/20\n",
      "54/54 [==============================] - 9s 170ms/step - loss: 0.4818 - balanced_accuracy: 0.8641 - val_loss: 1.8106 - val_balanced_accuracy: 0.4507\n",
      "Epoch 13/20\n",
      "54/54 [==============================] - 9s 170ms/step - loss: 0.4605 - balanced_accuracy: 0.8714 - val_loss: 1.9657 - val_balanced_accuracy: 0.4225\n",
      "Epoch 14/20\n",
      "54/54 [==============================] - 9s 171ms/step - loss: 0.4496 - balanced_accuracy: 0.8823 - val_loss: 1.9561 - val_balanced_accuracy: 0.4378\n",
      "Epoch 15/20\n",
      "54/54 [==============================] - 9s 171ms/step - loss: 0.4354 - balanced_accuracy: 0.8873 - val_loss: 1.8758 - val_balanced_accuracy: 0.4354\n",
      "Epoch 16/20\n",
      "54/54 [==============================] - 9s 171ms/step - loss: 0.4310 - balanced_accuracy: 0.8934 - val_loss: 1.9126 - val_balanced_accuracy: 0.4460\n",
      "Epoch 17/20\n",
      "54/54 [==============================] - 9s 170ms/step - loss: 0.3884 - balanced_accuracy: 0.8987 - val_loss: 2.0226 - val_balanced_accuracy: 0.4401\n",
      "Epoch 18/20\n",
      "54/54 [==============================] - 9s 172ms/step - loss: 0.3796 - balanced_accuracy: 0.9052 - val_loss: 2.2399 - val_balanced_accuracy: 0.4566\n",
      "Epoch 19/20\n",
      "54/54 [==============================] - 9s 170ms/step - loss: 0.3617 - balanced_accuracy: 0.9149 - val_loss: 2.0713 - val_balanced_accuracy: 0.4460\n",
      "Epoch 20/20\n",
      "54/54 [==============================] - 9s 170ms/step - loss: 0.3715 - balanced_accuracy: 0.9043 - val_loss: 1.8659 - val_balanced_accuracy: 0.4448\n"
     ]
    }
   ],
   "source": [
    "train_history = model.fit(\n",
    "    x ={'input_ids':x_train['input_ids'],'attention_mask':x_train['attention_mask']} ,\n",
    "    y = to_categorical(train.태그_encoded),\n",
    "    validation_data = (\n",
    "    {'input_ids':x_test['input_ids'],'attention_mask':x_test['attention_mask']}, to_categorical(test.태그_encoded)),\n",
    "    epochs=20,\n",
    "    batch_size=64)"
   ]
  },
  {
   "cell_type": "code",
   "execution_count": 27,
   "id": "3c9f4172-841a-4d71-b47a-92bfec17e49d",
   "metadata": {
    "scrolled": true
   },
   "outputs": [
    {
     "name": "stdout",
     "output_type": "stream",
     "text": [
      "54/54 [==============================] - 3s 22ms/step\n",
      "Predicted Tags: ['drive', 'rest/sleep', 'walking', 'rest/sleep', 'walking', 'drive', 'training', 'training', 'drive', 'drive', 'drive', 'walking', 'drive', 'training', 'rest/sleep', 'walking', 'drive', 'training', 'walking', 'training', 'drive', 'drive', 'walking', 'walking', 'walking', 'rest/sleep', 'drive', 'drive', 'rest/sleep', 'drive', 'drive', 'rest/sleep', 'training', 'training', 'training', 'drive', 'walking', 'rest/sleep', 'training', 'walking', 'training', 'walking', 'training', 'walking', 'drive', 'walking', 'walking', 'rest/sleep', 'walking', 'walking', 'walking', 'walking', 'drive', 'drive', 'drive', 'walking', 'training', 'walking', 'walking', 'rest/sleep', 'rest/sleep', 'drive', 'walking', 'walking', 'walking', 'training', 'drive', 'drive', 'drive', 'drive', 'walking', 'rest/sleep', 'rest/sleep', 'walking', 'rest/sleep', 'drive', 'walking', 'drive', 'walking', 'rest/sleep', 'walking', 'rest/sleep', 'training', 'rest/sleep', 'drive', 'walking', 'walking', 'walking', 'walking', 'training', 'walking', 'rest/sleep', 'drive', 'drive', 'walking', 'walking', 'walking', 'drive', 'training', 'training', 'rest/sleep', 'rest/sleep', 'training', 'training', 'drive', 'walking', 'training', 'drive', 'rest/sleep', 'drive', 'walking', 'rest/sleep', 'walking', 'walking', 'drive', 'drive', 'walking', 'rest/sleep', 'rest/sleep', 'training', 'training', 'walking', 'rest/sleep', 'training', 'walking', 'drive', 'training', 'rest/sleep', 'drive', 'walking', 'training', 'training', 'training', 'drive', 'drive', 'drive', 'walking', 'walking', 'drive', 'walking', 'rest/sleep', 'training', 'walking', 'walking', 'walking', 'walking', 'drive', 'rest/sleep', 'walking', 'walking', 'walking', 'walking', 'walking', 'training', 'walking', 'drive', 'walking', 'drive', 'training', 'rest/sleep', 'walking', 'drive', 'drive', 'drive', 'rest/sleep', 'walking', 'drive', 'walking', 'training', 'training', 'training', 'rest/sleep', 'drive', 'walking', 'rest/sleep', 'training', 'training', 'training', 'training', 'rest/sleep', 'drive', 'drive', 'walking', 'drive', 'walking', 'rest/sleep', 'drive', 'walking', 'drive', 'drive', 'rest/sleep', 'walking', 'rest/sleep', 'rest/sleep', 'walking', 'walking', 'training', 'drive', 'walking', 'training', 'drive', 'walking', 'walking', 'walking', 'rest/sleep', 'drive', 'walking', 'training', 'walking', 'drive', 'training', 'rest/sleep', 'walking', 'walking', 'rest/sleep', 'rest/sleep', 'drive', 'drive', 'walking', 'drive', 'rest/sleep', 'rest/sleep', 'rest/sleep', 'walking', 'training', 'rest/sleep', 'drive', 'walking', 'walking', 'rest/sleep', 'rest/sleep', 'rest/sleep', 'walking', 'drive', 'training', 'training', 'walking', 'drive', 'training', 'walking', 'rest/sleep', 'rest/sleep', 'walking', 'drive', 'drive', 'walking', 'drive', 'rest/sleep', 'rest/sleep', 'walking', 'training', 'drive', 'drive', 'rest/sleep', 'rest/sleep', 'rest/sleep', 'walking', 'walking', 'rest/sleep', 'drive', 'walking', 'walking', 'drive', 'training', 'walking', 'rest/sleep', 'drive', 'walking', 'drive', 'walking', 'walking', 'walking', 'rest/sleep', 'drive', 'walking', 'drive', 'training', 'walking', 'walking', 'walking', 'drive', 'training', 'walking', 'walking', 'walking', 'rest/sleep', 'walking', 'drive', 'walking', 'walking', 'drive', 'walking', 'drive', 'drive', 'training', 'rest/sleep', 'walking', 'walking', 'training', 'drive', 'drive', 'walking', 'drive', 'drive', 'walking', 'walking', 'drive', 'walking', 'walking', 'rest/sleep', 'training', 'drive', 'walking', 'walking', 'drive', 'rest/sleep', 'walking', 'rest/sleep', 'training', 'walking', 'training', 'training', 'drive', 'walking', 'drive', 'walking', 'walking', 'training', 'rest/sleep', 'training', 'walking', 'drive', 'drive', 'walking', 'walking', 'training', 'walking', 'rest/sleep', 'drive', 'walking', 'walking', 'training', 'training', 'drive', 'training', 'drive', 'drive', 'drive', 'walking', 'walking', 'walking', 'walking', 'rest/sleep', 'rest/sleep', 'drive', 'drive', 'walking', 'walking', 'walking', 'rest/sleep', 'walking', 'drive', 'walking', 'walking', 'training', 'walking', 'walking', 'walking', 'training', 'drive', 'walking', 'walking', 'training', 'rest/sleep', 'training', 'drive', 'drive', 'drive', 'drive', 'rest/sleep', 'walking', 'walking', 'rest/sleep', 'walking', 'drive', 'rest/sleep', 'rest/sleep', 'drive', 'walking', 'walking', 'drive', 'drive', 'training', 'drive', 'rest/sleep', 'walking', 'training', 'training', 'training', 'drive', 'training', 'training', 'walking', 'drive', 'training', 'walking', 'training', 'rest/sleep', 'walking', 'rest/sleep', 'drive', 'drive', 'rest/sleep', 'training', 'training', 'rest/sleep', 'walking', 'walking', 'walking', 'walking', 'walking', 'drive', 'rest/sleep', 'rest/sleep', 'walking', 'drive', 'training', 'rest/sleep', 'drive', 'training', 'walking', 'walking', 'rest/sleep', 'drive', 'rest/sleep', 'training', 'walking', 'rest/sleep', 'walking', 'walking', 'drive', 'walking', 'walking', 'walking', 'walking', 'walking', 'drive', 'walking', 'rest/sleep', 'training', 'training', 'drive', 'training', 'drive', 'training', 'training', 'training', 'rest/sleep', 'walking', 'training', 'training', 'drive', 'drive', 'drive', 'walking', 'rest/sleep', 'rest/sleep', 'rest/sleep', 'walking', 'rest/sleep', 'drive', 'walking', 'drive', 'training', 'drive', 'training', 'drive', 'walking', 'walking', 'walking', 'drive', 'walking', 'walking', 'drive', 'walking', 'training', 'drive', 'training', 'drive', 'walking', 'rest/sleep', 'training', 'walking', 'drive', 'walking', 'walking', 'drive', 'training', 'rest/sleep', 'drive', 'walking', 'walking', 'training', 'walking', 'drive', 'walking', 'training', 'drive', 'drive', 'walking', 'walking', 'training', 'drive', 'walking', 'walking', 'walking', 'training', 'walking', 'walking', 'rest/sleep', 'rest/sleep', 'walking', 'rest/sleep', 'drive', 'rest/sleep', 'training', 'training', 'walking', 'drive', 'drive', 'walking', 'drive', 'walking', 'walking', 'drive', 'walking', 'drive', 'training', 'walking', 'walking', 'rest/sleep', 'walking', 'training', 'walking', 'rest/sleep', 'training', 'walking', 'walking', 'walking', 'walking', 'rest/sleep', 'walking', 'walking', 'training', 'training', 'walking', 'rest/sleep', 'drive', 'walking', 'rest/sleep', 'walking', 'walking', 'walking', 'walking', 'training', 'training', 'rest/sleep', 'walking', 'training', 'walking', 'drive', 'training', 'walking', 'walking', 'rest/sleep', 'rest/sleep', 'drive', 'walking', 'walking', 'drive', 'rest/sleep', 'rest/sleep', 'drive', 'walking', 'walking', 'walking', 'walking', 'rest/sleep', 'training', 'drive', 'walking', 'drive', 'walking', 'walking', 'drive', 'walking', 'drive', 'rest/sleep', 'walking', 'rest/sleep', 'training', 'drive', 'walking', 'rest/sleep', 'drive', 'walking', 'rest/sleep', 'training', 'training', 'rest/sleep', 'drive', 'drive', 'walking', 'walking', 'walking', 'rest/sleep', 'rest/sleep', 'drive', 'rest/sleep', 'training', 'rest/sleep', 'training', 'walking', 'walking', 'walking', 'rest/sleep', 'rest/sleep', 'rest/sleep', 'drive', 'training', 'drive', 'walking', 'walking', 'walking', 'walking', 'drive', 'walking', 'drive', 'rest/sleep', 'walking', 'walking', 'training', 'walking', 'drive', 'walking', 'training', 'walking', 'drive', 'walking', 'rest/sleep', 'training', 'walking', 'drive', 'walking', 'rest/sleep', 'drive', 'training', 'drive', 'walking', 'training', 'walking', 'drive', 'drive', 'training', 'drive', 'walking', 'rest/sleep', 'walking', 'rest/sleep', 'walking', 'drive', 'rest/sleep', 'walking', 'walking', 'drive', 'drive', 'drive', 'rest/sleep', 'walking', 'walking', 'walking', 'walking', 'rest/sleep', 'walking', 'training', 'walking', 'walking', 'walking', 'training', 'walking', 'training', 'training', 'drive', 'drive', 'drive', 'walking', 'drive', 'training', 'drive', 'rest/sleep', 'walking', 'training', 'drive', 'rest/sleep', 'walking', 'walking', 'training', 'walking', 'drive', 'training', 'training', 'walking', 'walking', 'rest/sleep', 'walking', 'drive', 'walking', 'rest/sleep', 'drive', 'walking', 'walking', 'walking', 'drive', 'walking', 'walking', 'training', 'drive', 'drive', 'walking', 'training', 'walking', 'drive', 'walking', 'training', 'training', 'drive', 'walking', 'drive', 'drive', 'drive', 'training', 'rest/sleep', 'drive', 'walking', 'walking', 'rest/sleep', 'walking', 'rest/sleep', 'training', 'drive', 'walking', 'walking', 'walking', 'rest/sleep', 'walking', 'rest/sleep', 'walking', 'walking', 'drive', 'drive', 'training', 'training', 'drive', 'drive', 'rest/sleep', 'walking', 'training', 'walking', 'drive', 'drive', 'training', 'drive', 'walking', 'walking', 'rest/sleep', 'walking', 'training', 'walking', 'walking', 'drive', 'walking', 'walking', 'walking', 'walking', 'walking', 'walking', 'walking', 'training', 'rest/sleep', 'rest/sleep', 'training', 'drive', 'rest/sleep', 'walking', 'walking', 'walking', 'drive', 'walking', 'walking', 'rest/sleep', 'walking', 'rest/sleep', 'drive', 'drive', 'drive', 'walking', 'drive', 'drive', 'walking', 'training', 'training', 'walking', 'drive', 'rest/sleep', 'walking', 'training', 'drive', 'walking', 'rest/sleep', 'training', 'rest/sleep', 'rest/sleep', 'rest/sleep', 'rest/sleep', 'walking', 'walking', 'training', 'drive', 'walking', 'walking', 'walking', 'walking', 'drive', 'rest/sleep', 'walking', 'walking', 'walking', 'walking', 'drive', 'rest/sleep', 'training', 'rest/sleep', 'walking', 'walking', 'training', 'training', 'training', 'rest/sleep', 'walking', 'walking', 'drive', 'training', 'walking', 'training', 'training', 'walking', 'drive', 'walking', 'rest/sleep', 'training', 'rest/sleep', 'rest/sleep', 'walking', 'walking', 'walking', 'training', 'walking', 'drive', 'drive', 'drive', 'walking', 'walking', 'walking', 'training', 'training', 'rest/sleep', 'drive', 'rest/sleep', 'rest/sleep', 'drive', 'walking', 'walking', 'walking', 'rest/sleep', 'walking', 'rest/sleep', 'training', 'rest/sleep', 'walking', 'rest/sleep', 'rest/sleep', 'training', 'training', 'walking', 'training', 'walking', 'walking', 'walking', 'training', 'drive', 'drive', 'walking', 'rest/sleep', 'drive', 'walking', 'drive', 'drive', 'walking', 'drive', 'drive', 'drive', 'training', 'drive', 'rest/sleep', 'training', 'drive', 'training', 'drive', 'rest/sleep', 'walking', 'walking', 'walking', 'walking', 'walking', 'rest/sleep', 'drive', 'rest/sleep', 'drive', 'rest/sleep', 'walking', 'walking', 'walking', 'training', 'rest/sleep', 'walking', 'drive', 'rest/sleep', 'training', 'walking', 'training', 'rest/sleep', 'walking', 'drive', 'rest/sleep', 'walking', 'drive', 'walking', 'drive', 'drive', 'walking', 'drive', 'drive', 'training', 'walking', 'drive', 'rest/sleep', 'training', 'training', 'drive', 'walking', 'training', 'rest/sleep', 'drive', 'drive', 'walking', 'walking', 'drive', 'training', 'walking', 'walking', 'walking', 'rest/sleep', 'walking', 'drive', 'drive', 'rest/sleep', 'walking', 'drive', 'rest/sleep', 'walking', 'drive', 'walking', 'drive', 'walking', 'walking', 'walking', 'rest/sleep', 'walking', 'training', 'rest/sleep', 'walking', 'drive', 'rest/sleep', 'drive', 'walking', 'walking', 'drive', 'training', 'drive', 'drive', 'drive', 'walking', 'drive', 'drive', 'walking', 'drive', 'rest/sleep', 'walking', 'walking', 'walking', 'training', 'training', 'walking', 'walking', 'walking', 'walking', 'training', 'walking', 'drive', 'walking', 'walking', 'rest/sleep', 'training', 'walking', 'walking', 'training', 'rest/sleep', 'training', 'drive', 'rest/sleep', 'drive', 'training', 'walking', 'walking', 'walking', 'drive', 'drive', 'rest/sleep', 'training', 'walking', 'drive', 'drive', 'rest/sleep', 'drive', 'walking', 'drive', 'walking', 'training', 'training', 'rest/sleep', 'training', 'walking', 'rest/sleep', 'walking', 'drive', 'walking', 'rest/sleep', 'drive', 'walking', 'walking', 'drive', 'walking', 'training', 'drive', 'walking', 'training', 'training', 'rest/sleep', 'drive', 'drive', 'walking', 'drive', 'rest/sleep', 'drive', 'walking', 'training', 'walking', 'walking', 'walking', 'rest/sleep', 'training', 'rest/sleep', 'drive', 'training', 'walking', 'rest/sleep', 'training', 'walking', 'walking', 'drive', 'drive', 'drive', 'rest/sleep', 'training', 'walking', 'training', 'walking', 'rest/sleep', 'training', 'walking', 'training', 'training', 'walking', 'walking', 'walking', 'walking', 'drive', 'walking', 'walking', 'rest/sleep', 'walking', 'walking', 'walking', 'walking', 'training', 'training', 'drive', 'walking', 'drive', 'drive', 'rest/sleep', 'walking', 'training', 'rest/sleep', 'rest/sleep', 'training', 'rest/sleep', 'drive', 'training', 'drive', 'walking', 'walking', 'walking', 'drive', 'walking', 'drive', 'training', 'drive', 'rest/sleep', 'drive', 'walking', 'rest/sleep', 'walking', 'training', 'rest/sleep', 'rest/sleep', 'drive', 'drive', 'walking', 'drive', 'drive', 'walking', 'rest/sleep', 'walking', 'drive', 'drive', 'training', 'rest/sleep', 'drive', 'walking', 'drive', 'training', 'walking', 'drive', 'drive', 'walking', 'rest/sleep', 'drive', 'drive', 'rest/sleep', 'rest/sleep', 'training', 'drive', 'walking', 'drive', 'walking', 'rest/sleep', 'walking', 'rest/sleep', 'drive', 'walking', 'drive', 'rest/sleep', 'walking', 'drive', 'drive', 'rest/sleep', 'rest/sleep', 'walking', 'walking', 'walking', 'drive', 'training', 'drive', 'drive', 'walking', 'walking', 'training', 'walking', 'rest/sleep', 'rest/sleep', 'walking', 'drive', 'drive', 'rest/sleep', 'walking', 'rest/sleep', 'drive', 'training', 'walking', 'walking', 'drive', 'drive', 'training', 'training', 'walking', 'walking', 'walking', 'rest/sleep', 'training', 'training', 'walking', 'training', 'rest/sleep', 'rest/sleep', 'drive', 'drive', 'drive', 'rest/sleep', 'training', 'drive', 'walking', 'walking', 'drive', 'walking', 'drive', 'rest/sleep', 'training', 'drive', 'walking', 'training', 'rest/sleep', 'rest/sleep', 'walking', 'walking', 'training', 'drive', 'drive', 'walking', 'training', 'walking', 'rest/sleep', 'walking', 'drive', 'drive', 'walking', 'walking', 'walking', 'training', 'rest/sleep', 'drive', 'walking', 'drive', 'walking', 'drive', 'walking', 'drive', 'walking', 'training', 'walking', 'walking', 'walking', 'rest/sleep', 'training', 'rest/sleep', 'walking', 'walking', 'training', 'rest/sleep', 'walking', 'walking', 'drive', 'walking', 'rest/sleep', 'training', 'rest/sleep', 'drive', 'drive', 'walking', 'training', 'rest/sleep', 'drive', 'walking', 'walking', 'drive', 'drive', 'rest/sleep', 'rest/sleep', 'walking', 'walking', 'training', 'drive', 'training', 'drive', 'walking', 'walking', 'drive', 'drive', 'walking', 'training', 'drive', 'walking', 'training', 'drive', 'training', 'rest/sleep', 'training', 'walking', 'walking', 'rest/sleep', 'walking', 'drive', 'drive', 'walking', 'drive', 'walking', 'drive', 'walking', 'rest/sleep', 'walking', 'walking', 'walking', 'walking', 'rest/sleep', 'walking', 'drive', 'walking', 'walking', 'walking', 'training', 'drive', 'walking', 'walking', 'drive', 'drive', 'training', 'training', 'drive', 'walking', 'rest/sleep', 'walking', 'rest/sleep', 'drive', 'walking', 'walking', 'rest/sleep', 'training', 'walking', 'rest/sleep', 'drive', 'walking', 'walking', 'rest/sleep', 'walking', 'drive', 'drive', 'walking', 'drive', 'walking', 'drive', 'drive', 'training', 'rest/sleep', 'drive', 'drive', 'training', 'walking', 'drive', 'drive', 'drive', 'drive', 'rest/sleep', 'walking', 'drive', 'drive', 'walking', 'walking', 'walking', 'training', 'walking', 'training', 'training', 'drive', 'training', 'training', 'drive', 'training', 'training', 'walking', 'training', 'walking', 'rest/sleep', 'walking', 'training', 'walking', 'walking', 'rest/sleep', 'walking', 'drive', 'walking', 'training', 'rest/sleep', 'drive', 'walking', 'walking', 'training', 'walking', 'walking', 'training', 'training', 'training', 'rest/sleep', 'drive', 'rest/sleep', 'drive', 'walking', 'walking', 'drive', 'drive', 'rest/sleep', 'drive', 'training', 'training', 'walking', 'drive', 'drive', 'rest/sleep', 'drive', 'rest/sleep', 'walking', 'training', 'training', 'walking', 'rest/sleep', 'walking', 'training', 'drive', 'drive', 'drive', 'walking', 'training', 'walking', 'walking', 'training', 'walking', 'drive', 'walking', 'drive', 'walking', 'drive', 'drive', 'drive', 'rest/sleep', 'training', 'training', 'rest/sleep', 'walking', 'walking', 'walking', 'training', 'walking', 'walking', 'training', 'training', 'training', 'rest/sleep', 'rest/sleep', 'rest/sleep', 'walking', 'training', 'training', 'rest/sleep', 'drive', 'walking', 'walking', 'walking', 'walking', 'walking', 'drive', 'training', 'drive', 'rest/sleep', 'rest/sleep', 'rest/sleep', 'drive', 'drive', 'drive', 'walking', 'drive', 'walking', 'walking', 'training', 'walking', 'training', 'drive', 'walking', 'rest/sleep', 'training', 'walking', 'walking', 'drive', 'training', 'rest/sleep', 'rest/sleep', 'drive', 'rest/sleep', 'walking', 'training', 'walking', 'walking', 'walking', 'walking', 'training', 'drive', 'drive', 'walking', 'drive', 'training', 'walking', 'training', 'walking', 'drive', 'walking', 'walking', 'rest/sleep', 'training', 'rest/sleep', 'walking', 'drive', 'walking', 'training', 'drive', 'drive', 'rest/sleep', 'walking', 'training', 'walking', 'rest/sleep', 'rest/sleep', 'training', 'walking', 'drive', 'training', 'drive', 'walking', 'drive', 'training', 'rest/sleep', 'walking', 'drive', 'drive', 'walking', 'training', 'walking', 'drive', 'rest/sleep', 'drive', 'walking', 'walking', 'rest/sleep', 'training', 'drive', 'rest/sleep', 'drive', 'drive', 'drive', 'walking', 'training', 'drive', 'rest/sleep', 'rest/sleep', 'rest/sleep', 'rest/sleep', 'walking', 'drive', 'drive', 'walking', 'rest/sleep', 'walking', 'walking', 'drive', 'drive', 'drive', 'walking', 'walking', 'walking', 'training', 'walking', 'walking', 'drive', 'walking', 'drive', 'drive', 'rest/sleep', 'walking', 'drive', 'walking', 'walking', 'training', 'rest/sleep', 'walking', 'training', 'walking', 'drive', 'drive', 'drive', 'walking', 'walking', 'rest/sleep', 'rest/sleep', 'drive', 'walking', 'training', 'training', 'walking', 'rest/sleep', 'walking', 'drive', 'rest/sleep', 'rest/sleep', 'walking', 'drive', 'walking', 'walking', 'walking', 'drive', 'rest/sleep', 'training', 'walking', 'training', 'rest/sleep', 'rest/sleep', 'walking', 'walking', 'rest/sleep', 'walking', 'rest/sleep', 'drive', 'walking', 'walking', 'training', 'walking', 'training', 'walking', 'walking', 'drive', 'training', 'walking', 'walking', 'drive', 'walking', 'drive', 'rest/sleep', 'drive', 'rest/sleep', 'walking', 'drive', 'walking', 'drive', 'rest/sleep', 'walking', 'walking', 'walking', 'training', 'walking', 'walking', 'drive', 'drive', 'rest/sleep', 'drive', 'drive', 'training', 'drive', 'rest/sleep', 'walking', 'walking', 'walking', 'walking', 'drive', 'drive', 'drive', 'walking', 'drive', 'drive', 'walking', 'drive', 'walking', 'training', 'walking', 'walking', 'walking', 'walking', 'walking', 'walking']\n"
     ]
    }
   ],
   "source": [
    "# 예측 결과를 원래 태그로 변환\n",
    "predictions = model.predict(\n",
    "   {'input_ids':x_test['input_ids'],'attention_mask':x_test['attention_mask']})\n",
    "predicted_tags = np.argmax(predictions, axis=1)\n",
    "predicted_tags = [inverse_tag_mapping[tag] for tag in predicted_tags]\n",
    "\n",
    "print(\"Predicted Tags:\", predicted_tags)\n"
   ]
  },
  {
   "cell_type": "code",
   "execution_count": null,
   "id": "97c92d43-a333-4c9b-b1fc-cd537d06a227",
   "metadata": {},
   "outputs": [],
   "source": []
  },
  {
   "cell_type": "code",
   "execution_count": 28,
   "id": "2323b10d-281b-441b-ad3a-d84b8e2828e2",
   "metadata": {},
   "outputs": [],
   "source": [
    "test[\"예측태그\"]=np.argmax(predictions, axis=1)"
   ]
  },
  {
   "cell_type": "code",
   "execution_count": 38,
   "id": "d0e87d84-6501-4ccf-86fc-10b22c229aa4",
   "metadata": {},
   "outputs": [
    {
     "data": {
      "text/html": [
       "<div>\n",
       "<style scoped>\n",
       "    .dataframe tbody tr th:only-of-type {\n",
       "        vertical-align: middle;\n",
       "    }\n",
       "\n",
       "    .dataframe tbody tr th {\n",
       "        vertical-align: top;\n",
       "    }\n",
       "\n",
       "    .dataframe thead th {\n",
       "        text-align: right;\n",
       "    }\n",
       "</style>\n",
       "<table border=\"1\" class=\"dataframe\">\n",
       "  <thead>\n",
       "    <tr style=\"text-align: right;\">\n",
       "      <th></th>\n",
       "      <th>가사</th>\n",
       "      <th>태그_encoded</th>\n",
       "      <th>예측태그</th>\n",
       "    </tr>\n",
       "  </thead>\n",
       "  <tbody>\n",
       "    <tr>\n",
       "      <th>184</th>\n",
       "      <td>Yeah yeah yeah yeah Fever dream high in the qu...</td>\n",
       "      <td>0</td>\n",
       "      <td>3</td>\n",
       "    </tr>\n",
       "    <tr>\n",
       "      <th>1018</th>\n",
       "      <td>Yo Ive been walking on the street yo 유엔빌리지에서 한...</td>\n",
       "      <td>0</td>\n",
       "      <td>2</td>\n",
       "    </tr>\n",
       "    <tr>\n",
       "      <th>2910</th>\n",
       "      <td>OK you got me going crazy   I  dont know what ...</td>\n",
       "      <td>2</td>\n",
       "      <td>2</td>\n",
       "    </tr>\n",
       "    <tr>\n",
       "      <th>3611</th>\n",
       "      <td>처음엔 분명 안 그랬었어 마냥 좋았었어 어느 새부터 기울곤 했어 너와 내 마음이 어...</td>\n",
       "      <td>3</td>\n",
       "      <td>3</td>\n",
       "    </tr>\n",
       "    <tr>\n",
       "      <th>602</th>\n",
       "      <td>Lost in all the same dreams  chasin where the ...</td>\n",
       "      <td>0</td>\n",
       "      <td>0</td>\n",
       "    </tr>\n",
       "    <tr>\n",
       "      <th>...</th>\n",
       "      <td>...</td>\n",
       "      <td>...</td>\n",
       "      <td>...</td>\n",
       "    </tr>\n",
       "    <tr>\n",
       "      <th>3495</th>\n",
       "      <td>가을 우체국 앞에서 그대를 기다리다 노오란 은행잎들이 바람에 날려가고 지나는 사람들...</td>\n",
       "      <td>3</td>\n",
       "      <td>1</td>\n",
       "    </tr>\n",
       "    <tr>\n",
       "      <th>439</th>\n",
       "      <td>어떤 것들이 이토록 눈을 흐려지게 만들까 의심 없는 My addiction 핏줄에 ...</td>\n",
       "      <td>0</td>\n",
       "      <td>3</td>\n",
       "    </tr>\n",
       "    <tr>\n",
       "      <th>289</th>\n",
       "      <td>I was good to you Could lay my head upon your ...</td>\n",
       "      <td>0</td>\n",
       "      <td>0</td>\n",
       "    </tr>\n",
       "    <tr>\n",
       "      <th>1255</th>\n",
       "      <td>빛바랜 앨범들 속에서 또 다시 나와 만난 그대는 그 계절 가장 눈부신 모습 그대로 ...</td>\n",
       "      <td>1</td>\n",
       "      <td>3</td>\n",
       "    </tr>\n",
       "    <tr>\n",
       "      <th>4188</th>\n",
       "      <td>지금 뭐해요 집인가요 그렇담 빨리 나와요 이렇게나 햇살이 좋은데 집인 게 말이 돼요...</td>\n",
       "      <td>3</td>\n",
       "      <td>3</td>\n",
       "    </tr>\n",
       "  </tbody>\n",
       "</table>\n",
       "<p>852 rows × 3 columns</p>\n",
       "</div>"
      ],
      "text/plain": [
       "                                                     가사  태그_encoded  예측태그\n",
       "184   Yeah yeah yeah yeah Fever dream high in the qu...           0     3\n",
       "1018  Yo Ive been walking on the street yo 유엔빌리지에서 한...           0     2\n",
       "2910  OK you got me going crazy   I  dont know what ...           2     2\n",
       "3611  처음엔 분명 안 그랬었어 마냥 좋았었어 어느 새부터 기울곤 했어 너와 내 마음이 어...           3     3\n",
       "602   Lost in all the same dreams  chasin where the ...           0     0\n",
       "...                                                 ...         ...   ...\n",
       "3495  가을 우체국 앞에서 그대를 기다리다 노오란 은행잎들이 바람에 날려가고 지나는 사람들...           3     1\n",
       "439   어떤 것들이 이토록 눈을 흐려지게 만들까 의심 없는 My addiction 핏줄에 ...           0     3\n",
       "289   I was good to you Could lay my head upon your ...           0     0\n",
       "1255  빛바랜 앨범들 속에서 또 다시 나와 만난 그대는 그 계절 가장 눈부신 모습 그대로 ...           1     3\n",
       "4188  지금 뭐해요 집인가요 그렇담 빨리 나와요 이렇게나 햇살이 좋은데 집인 게 말이 돼요...           3     3\n",
       "\n",
       "[852 rows x 3 columns]"
      ]
     },
     "execution_count": 38,
     "metadata": {},
     "output_type": "execute_result"
    }
   ],
   "source": [
    "test"
   ]
  },
  {
   "cell_type": "code",
   "execution_count": 29,
   "id": "9ee3656b-27d8-4d9b-8f34-61c98a2d91c3",
   "metadata": {
    "scrolled": true
   },
   "outputs": [
    {
     "name": "stdout",
     "output_type": "stream",
     "text": [
      "              precision    recall  f1-score   support\n",
      "\n",
      "           0       0.46      0.40      0.43       517\n",
      "           1       0.64      0.53      0.58       366\n",
      "           2       0.77      0.65      0.70       356\n",
      "           3       0.41      0.58      0.48       465\n",
      "\n",
      "    accuracy                           0.53      1704\n",
      "   macro avg       0.57      0.54      0.55      1704\n",
      "weighted avg       0.55      0.53      0.53      1704\n",
      "\n"
     ]
    }
   ],
   "source": [
    "from sklearn.metrics import classification_report\n",
    "\n",
    "# 예측 결과와 실제 레이블을 가지고 classification report 생성\n",
    "y_true = test.태그_encoded\n",
    "y_pred =np.argmax(predictions, axis=1)\n",
    "\n",
    "report = classification_report(y_true, y_pred)\n",
    "print(report)"
   ]
  },
  {
   "cell_type": "markdown",
   "id": "5a8927db-bed4-4858-b882-38a3c1d02535",
   "metadata": {},
   "source": [
    "Precision (정밀도): 양성이라고 예측한 것 중에서 실제로 양성인 비율입니다.\n",
    "\n",
    "Class 0: 42%\n",
    "Class 1: 63%\n",
    "Class 2: 62%\n",
    "Class 3: 32%\n",
    "Recall (재현율): 실제로 양성인 것 중에서 모델이 양성이라고 예측한 비율입니다.\n",
    "\n",
    "Class 0: 40%\n",
    "Class 1: 42%\n",
    "Class 2: 55%\n",
    "Class 3: 45%\n",
    "F1-Score (F1 점수): 정밀도와 재현율의 조화 평균입니다.\n",
    "\n",
    "Class 0: 41%\n",
    "Class 1: 51%\n",
    "Class 2: 58%\n",
    "Class 3: 38%\n",
    "Support (지원도): 각 클래스에 대한 실제 데이터의 개수입니다.\n",
    "\n",
    "Class 0: 274\n",
    "Class 1: 175\n",
    "Class 2: 181\n",
    "Class 3: 222\n",
    "Accuracy (정확도): 전체적으로 모델이 정확하게 예측한 비율입니다. (모든 클래스를 고려한 전체적인 성능)\n",
    "\n",
    "Accuracy: 45%\n",
    "Macro Avg (매크로 평균): 모든 클래스의 평균값을 계산한 것으로, 클래스 불균형이 존재할 때 사용됩니다.\n",
    "\n",
    "Macro Avg Precision: 50%\n",
    "Macro Avg Recall: 46%\n",
    "Macro Avg F1-Score: 47%\n",
    "Weighted Avg (가중 평균): 클래스별로 가중치를 두어 평균을 계산한 것으로, 클래스의 지원도에 따라 가중치가 적용됩니다.\n",
    "\n",
    "Weighted Avg Precision: 48%\n",
    "Weighted Avg Recall: 45%\n",
    "Weighted Avg F1-Score: 46%\n",
    "이 결과를 종합하면, 클래스 1과 클래스 2가 비교적 높은 정밀도와 재현율을 갖고 있지만, 클래스 0과 클래스 3는 성능이 낮습니다. 전체적으로 정확도는 45%로 나타났습니다. 또한, Macro 평균과 Weighted 평균에서 전체적인 성능을 확인할 수 있습니다. 클래스 간 불균형이 있을 경우 Macro 평균이 더 중요한 지표일 수 있습니다."
   ]
  },
  {
   "cell_type": "code",
   "execution_count": 30,
   "id": "3182784d-f77b-4cac-aeba-b3c98e71d324",
   "metadata": {},
   "outputs": [],
   "source": [
    "model.save_weights('./model/situation/situation2_weights')"
   ]
  },
  {
   "cell_type": "code",
   "execution_count": 31,
   "id": "2083a131-cc39-48e5-bc43-1fe3d5f93c03",
   "metadata": {},
   "outputs": [],
   "source": [
    "model.save('./model/situation/situation2_weights.h5')"
   ]
  },
  {
   "cell_type": "code",
   "execution_count": null,
   "id": "65072b64-70c7-475d-bb7e-bb6990f6c554",
   "metadata": {},
   "outputs": [],
   "source": []
  },
  {
   "cell_type": "code",
   "execution_count": 32,
   "id": "eb2bb8ac-faff-404b-a2fe-e89b096e217b",
   "metadata": {},
   "outputs": [],
   "source": [
    "import matplotlib.pyplot as plt\n",
    "# 시각화\n",
    "def plot_graphs(history, string):\n",
    "    plt.plot(history.history[string])\n",
    "    plt.plot(history.history['val_'+string], '')\n",
    "    plt.xlabel(\"Epochs\")\n",
    "    plt.ylabel(string)\n",
    "    plt.legend([string, 'val_'+string])\n",
    "    plt.show()"
   ]
  },
  {
   "cell_type": "code",
   "execution_count": 34,
   "id": "2368f41c-0f0e-4572-955a-2f1386ea89a5",
   "metadata": {},
   "outputs": [
    {
     "data": {
      "image/png": "[encoded data removed]",
      "text/plain": [
       "<Figure size 640x480 with 1 Axes>"
      ]
     },
     "metadata": {},
     "output_type": "display_data"
    }
   ],
   "source": [
    "plot_graphs(train_history, 'categorical_accuracy')"
   ]
  },
  {
   "cell_type": "code",
   "execution_count": null,
   "id": "10eb414b-6531-4e87-b47d-2614aea9371f",
   "metadata": {},
   "outputs": [],
   "source": []
  }
 ],
 "metadata": {
  "kernelspec": {
   "display_name": "Python 3 (ipykernel)",
   "language": "python",
   "name": "python3"
  },
  "language_info": {
   "codemirror_mode": {
    "name": "ipython",
    "version": 3
   },
   "file_extension": ".py",
   "mimetype": "text/x-python",
   "name": "python",
   "nbconvert_exporter": "python",
   "pygments_lexer": "ipython3",
   "version": "3.10.12"
  }
 },
 "nbformat": 4,
 "nbformat_minor": 5
}
