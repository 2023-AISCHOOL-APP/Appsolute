{
 "cells": [
  {
   "cell_type": "code",
   "execution_count": 1,
   "id": "ea6968d8-2b0b-46ed-82d4-9ced4fc63383",
   "metadata": {},
   "outputs": [
    {
     "name": "stderr",
     "output_type": "stream",
     "text": [
      "2023-11-27 12:20:35.369122: I tensorflow/core/util/port.cc:110] oneDNN custom operations are on. You may see slightly different numerical results due to floating-point round-off errors from different computation orders. To turn them off, set the environment variable `TF_ENABLE_ONEDNN_OPTS=0`.\n",
      "2023-11-27 12:20:35.419298: I tensorflow/core/platform/cpu_feature_guard.cc:182] This TensorFlow binary is optimized to use available CPU instructions in performance-critical operations.\n",
      "To enable the following instructions: AVX2 AVX512F AVX512_VNNI AVX512_BF16 AVX_VNNI FMA, in other operations, rebuild TensorFlow with the appropriate compiler flags.\n"
     ]
    }
   ],
   "source": [
    "import numpy as np\n",
    "import pandas as pd\n",
    "import warnings\n",
    "import tensorflow as tf\n",
    "from sklearn.model_selection import train_test_split\n",
    "from transformers import BertTokenizer, TFBertModel\n",
    "# 경고 메시지 무시\n",
    "warnings.filterwarnings('ignore')"
   ]
  },
  {
   "cell_type": "code",
   "execution_count": 3,
   "id": "9e22902e-e97e-4fec-985e-4b99cf03b1b3",
   "metadata": {},
   "outputs": [],
   "source": [
    "# 데이터 로드\n",
    "data = pd.read_csv(\"./data/time.csv\")\n",
    "data = data.drop(columns=[\"Unnamed: 0\"])"
   ]
  },
  {
   "cell_type": "code",
   "execution_count": 10,
   "id": "50e7ff77-4d90-474a-96ef-d8b71bbceb0e",
   "metadata": {},
   "outputs": [
    {
     "data": {
      "text/html": [
       "<div>\n",
       "<style scoped>\n",
       "    .dataframe tbody tr th:only-of-type {\n",
       "        vertical-align: middle;\n",
       "    }\n",
       "\n",
       "    .dataframe tbody tr th {\n",
       "        vertical-align: top;\n",
       "    }\n",
       "\n",
       "    .dataframe thead th {\n",
       "        text-align: right;\n",
       "    }\n",
       "</style>\n",
       "<table border=\"1\" class=\"dataframe\">\n",
       "  <thead>\n",
       "    <tr style=\"text-align: right;\">\n",
       "      <th></th>\n",
       "      <th>노래제목</th>\n",
       "      <th>가수</th>\n",
       "      <th>가사</th>\n",
       "      <th>태그</th>\n",
       "    </tr>\n",
       "  </thead>\n",
       "  <tbody>\n",
       "    <tr>\n",
       "      <th>0</th>\n",
       "      <td>Sunflower (Spider-Man: Into the Spider-Verse)</td>\n",
       "      <td>Post Malone(포스트 말론)</td>\n",
       "      <td>Ayy ayy ayy ayy Ooh ooh ooh ooh Ayy ayy Ooh oo...</td>\n",
       "      <td>morning</td>\n",
       "    </tr>\n",
       "    <tr>\n",
       "      <th>1</th>\n",
       "      <td>Casio</td>\n",
       "      <td>Jungle(정글)</td>\n",
       "      <td>Casio Playing on my heart just like a casio Br...</td>\n",
       "      <td>morning</td>\n",
       "    </tr>\n",
       "    <tr>\n",
       "      <th>2</th>\n",
       "      <td>Late Night</td>\n",
       "      <td>Lucky Daye</td>\n",
       "      <td>The bigger we are the harder we fall We swingi...</td>\n",
       "      <td>morning</td>\n",
       "    </tr>\n",
       "    <tr>\n",
       "      <th>3</th>\n",
       "      <td>Warm On A Cold Night</td>\n",
       "      <td>HONNE(혼네)</td>\n",
       "      <td>Okay its  AM  Youre tuned in with your main ma...</td>\n",
       "      <td>morning</td>\n",
       "    </tr>\n",
       "    <tr>\n",
       "      <th>4</th>\n",
       "      <td>How Does It Feel?</td>\n",
       "      <td>Samm Henshaw(샘 핸쇼우)</td>\n",
       "      <td>How does it feel to be loved I just landed on ...</td>\n",
       "      <td>morning</td>\n",
       "    </tr>\n",
       "    <tr>\n",
       "      <th>...</th>\n",
       "      <td>...</td>\n",
       "      <td>...</td>\n",
       "      <td>...</td>\n",
       "      <td>...</td>\n",
       "    </tr>\n",
       "    <tr>\n",
       "      <th>3547</th>\n",
       "      <td>Love Like This</td>\n",
       "      <td>ZAYN(제인)CONNECT 아티스트</td>\n",
       "      <td>Oh I love it when you show when you show When ...</td>\n",
       "      <td>night</td>\n",
       "    </tr>\n",
       "    <tr>\n",
       "      <th>3548</th>\n",
       "      <td>Feel Better</td>\n",
       "      <td>Chymes</td>\n",
       "      <td>Verse You say that were fine But i leave feeli...</td>\n",
       "      <td>night</td>\n",
       "    </tr>\n",
       "    <tr>\n",
       "      <th>3549</th>\n",
       "      <td>Other Boys</td>\n",
       "      <td>Marshmello(마시멜로)</td>\n",
       "      <td>Why cant you want me like the other boys do Th...</td>\n",
       "      <td>night</td>\n",
       "    </tr>\n",
       "    <tr>\n",
       "      <th>3550</th>\n",
       "      <td>Lies You Tell</td>\n",
       "      <td>Emotional Oranges</td>\n",
       "      <td>Still tryna find my way out Guess I dont have ...</td>\n",
       "      <td>night</td>\n",
       "    </tr>\n",
       "    <tr>\n",
       "      <th>3551</th>\n",
       "      <td>In Your Eyes</td>\n",
       "      <td>Liam Ferrari</td>\n",
       "      <td>Tell me everything that you want Cause Ive bee...</td>\n",
       "      <td>night</td>\n",
       "    </tr>\n",
       "  </tbody>\n",
       "</table>\n",
       "<p>3552 rows × 4 columns</p>\n",
       "</div>"
      ],
      "text/plain": [
       "                                               노래제목                    가수  \\\n",
       "0     Sunflower (Spider-Man: Into the Spider-Verse)   Post Malone(포스트 말론)   \n",
       "1                                             Casio            Jungle(정글)   \n",
       "2                                        Late Night            Lucky Daye   \n",
       "3                              Warm On A Cold Night             HONNE(혼네)   \n",
       "4                                 How Does It Feel?   Samm Henshaw(샘 핸쇼우)   \n",
       "...                                             ...                   ...   \n",
       "3547                                 Love Like This  ZAYN(제인)CONNECT 아티스트   \n",
       "3548                                    Feel Better                Chymes   \n",
       "3549                                     Other Boys      Marshmello(마시멜로)   \n",
       "3550                                  Lies You Tell     Emotional Oranges   \n",
       "3551                                   In Your Eyes          Liam Ferrari   \n",
       "\n",
       "                                                     가사       태그  \n",
       "0     Ayy ayy ayy ayy Ooh ooh ooh ooh Ayy ayy Ooh oo...  morning  \n",
       "1     Casio Playing on my heart just like a casio Br...  morning  \n",
       "2     The bigger we are the harder we fall We swingi...  morning  \n",
       "3     Okay its  AM  Youre tuned in with your main ma...  morning  \n",
       "4     How does it feel to be loved I just landed on ...  morning  \n",
       "...                                                 ...      ...  \n",
       "3547  Oh I love it when you show when you show When ...    night  \n",
       "3548  Verse You say that were fine But i leave feeli...    night  \n",
       "3549  Why cant you want me like the other boys do Th...    night  \n",
       "3550  Still tryna find my way out Guess I dont have ...    night  \n",
       "3551  Tell me everything that you want Cause Ive bee...    night  \n",
       "\n",
       "[3552 rows x 4 columns]"
      ]
     },
     "execution_count": 10,
     "metadata": {},
     "output_type": "execute_result"
    }
   ],
   "source": [
    "data"
   ]
  },
  {
   "cell_type": "code",
   "execution_count": 4,
   "id": "293296c3-95c2-445f-bcbd-8168338d7696",
   "metadata": {},
   "outputs": [],
   "source": [
    "import pandas as pd\n",
    "\n",
    "# 새로운 데이터프레임 생성\n",
    "data1 = pd.DataFrame()\n",
    "data2 = pd.DataFrame()\n",
    "\n",
    "# 원래 가사를 절반으로 나누어 두 데이터프레임에 추가\n",
    "for i in range(len(data[\"가사\"])):\n",
    "    list1 = list(data[\"가사\"][i].split(\" \"))\n",
    "    half_length = len(list1) // 2\n",
    "    first_half = \" \".join(list1[:half_length])\n",
    "    second_half = \" \".join(list1[half_length:])\n",
    "    \n",
    "    # 첫 번째 데이터프레임에 추가\n",
    "    data1.loc[i, \"가사\"] = first_half\n",
    "    data1.loc[i,\"태그\"]=data[\"태그\"][i]\n",
    "    # 두 번째 데이터프레임에 추가\n",
    "    data2.loc[i, \"가사\"] = second_half\n",
    "    data2.loc[i,\"태그\"]=data[\"태그\"][i]\n",
    "# 두 데이터프레임 합치기\n",
    "data = pd.concat([data1, data2], axis=0)"
   ]
  },
  {
   "cell_type": "code",
   "execution_count": 14,
   "id": "2cebeefc-3697-4f6e-b2e2-85d0c66a29da",
   "metadata": {},
   "outputs": [
    {
     "data": {
      "text/plain": [
       "태그\n",
       "night      1126\n",
       "noon        925\n",
       "evening     821\n",
       "morning     680\n",
       "Name: count, dtype: int64"
      ]
     },
     "execution_count": 14,
     "metadata": {},
     "output_type": "execute_result"
    }
   ],
   "source": [
    "data[\"태그\"].value_counts()"
   ]
  },
  {
   "cell_type": "code",
   "execution_count": 5,
   "id": "0562a90f-be57-4a85-8b2b-8e52ff82b3e0",
   "metadata": {},
   "outputs": [
    {
     "data": {
      "text/plain": [
       "태그\n",
       "night      2252\n",
       "noon       1850\n",
       "evening    1642\n",
       "morning    1360\n",
       "Name: count, dtype: int64"
      ]
     },
     "execution_count": 5,
     "metadata": {},
     "output_type": "execute_result"
    }
   ],
   "source": [
    "data[\"태그\"].value_counts()"
   ]
  },
  {
   "cell_type": "code",
   "execution_count": 6,
   "id": "48f89a7f-b467-44bb-8485-25f05a155b71",
   "metadata": {
    "scrolled": true
   },
   "outputs": [
    {
     "name": "stderr",
     "output_type": "stream",
     "text": [
      "2023-11-27 12:20:48.788762: I tensorflow/compiler/xla/stream_executor/cuda/cuda_gpu_executor.cc:996] successful NUMA node read from SysFS had negative value (-1), but there must be at least one NUMA node, so returning NUMA node zero. See more at https://github.com/torvalds/linux/blob/v6.0/Documentation/ABI/testing/sysfs-bus-pci#L344-L355\n",
      "2023-11-27 12:20:48.796406: I tensorflow/compiler/xla/stream_executor/cuda/cuda_gpu_executor.cc:996] successful NUMA node read from SysFS had negative value (-1), but there must be at least one NUMA node, so returning NUMA node zero. See more at https://github.com/torvalds/linux/blob/v6.0/Documentation/ABI/testing/sysfs-bus-pci#L344-L355\n",
      "2023-11-27 12:20:48.799116: I tensorflow/compiler/xla/stream_executor/cuda/cuda_gpu_executor.cc:996] successful NUMA node read from SysFS had negative value (-1), but there must be at least one NUMA node, so returning NUMA node zero. See more at https://github.com/torvalds/linux/blob/v6.0/Documentation/ABI/testing/sysfs-bus-pci#L344-L355\n",
      "2023-11-27 12:20:48.801677: W tensorflow/core/common_runtime/gpu/gpu_device.cc:2048] TensorFlow was not built with CUDA kernel binaries compatible with compute capability 9.0. CUDA kernels will be jit-compiled from PTX, which could take 30 minutes or longer.\n",
      "2023-11-27 12:20:48.803107: I tensorflow/compiler/xla/stream_executor/cuda/cuda_gpu_executor.cc:996] successful NUMA node read from SysFS had negative value (-1), but there must be at least one NUMA node, so returning NUMA node zero. See more at https://github.com/torvalds/linux/blob/v6.0/Documentation/ABI/testing/sysfs-bus-pci#L344-L355\n",
      "2023-11-27 12:20:48.805789: I tensorflow/compiler/xla/stream_executor/cuda/cuda_gpu_executor.cc:996] successful NUMA node read from SysFS had negative value (-1), but there must be at least one NUMA node, so returning NUMA node zero. See more at https://github.com/torvalds/linux/blob/v6.0/Documentation/ABI/testing/sysfs-bus-pci#L344-L355\n",
      "2023-11-27 12:20:48.808392: I tensorflow/compiler/xla/stream_executor/cuda/cuda_gpu_executor.cc:996] successful NUMA node read from SysFS had negative value (-1), but there must be at least one NUMA node, so returning NUMA node zero. See more at https://github.com/torvalds/linux/blob/v6.0/Documentation/ABI/testing/sysfs-bus-pci#L344-L355\n",
      "2023-11-27 12:20:48.810988: W tensorflow/core/common_runtime/gpu/gpu_device.cc:2048] TensorFlow was not built with CUDA kernel binaries compatible with compute capability 9.0. CUDA kernels will be jit-compiled from PTX, which could take 30 minutes or longer.\n",
      "2023-11-27 12:20:48.956706: I tensorflow/compiler/xla/stream_executor/cuda/cuda_gpu_executor.cc:996] successful NUMA node read from SysFS had negative value (-1), but there must be at least one NUMA node, so returning NUMA node zero. See more at https://github.com/torvalds/linux/blob/v6.0/Documentation/ABI/testing/sysfs-bus-pci#L344-L355\n",
      "2023-11-27 12:20:48.958171: I tensorflow/compiler/xla/stream_executor/cuda/cuda_gpu_executor.cc:996] successful NUMA node read from SysFS had negative value (-1), but there must be at least one NUMA node, so returning NUMA node zero. See more at https://github.com/torvalds/linux/blob/v6.0/Documentation/ABI/testing/sysfs-bus-pci#L344-L355\n",
      "2023-11-27 12:20:48.959483: I tensorflow/compiler/xla/stream_executor/cuda/cuda_gpu_executor.cc:996] successful NUMA node read from SysFS had negative value (-1), but there must be at least one NUMA node, so returning NUMA node zero. See more at https://github.com/torvalds/linux/blob/v6.0/Documentation/ABI/testing/sysfs-bus-pci#L344-L355\n",
      "2023-11-27 12:20:48.960802: I tensorflow/core/common_runtime/gpu/gpu_device.cc:1635] Created device /job:localhost/replica:0/task:0/device:GPU:0 with 78942 MB memory:  -> device: 0, name: NVIDIA H100 80GB HBM3, pci bus id: 0000:00:05.0, compute capability: 9.0\n",
      "2023-11-27 12:20:50.528047: I tensorflow/compiler/xla/stream_executor/cuda/cuda_blas.cc:637] TensorFloat-32 will be used for the matrix multiplication. This will only be logged once.\n",
      "Some weights of the PyTorch model were not used when initializing the TF 2.0 model TFBertModel: ['cls.predictions.transform.dense.weight', 'cls.predictions.bias', 'cls.seq_relationship.bias', 'cls.predictions.transform.dense.bias', 'cls.predictions.transform.LayerNorm.weight', 'cls.seq_relationship.weight', 'cls.predictions.transform.LayerNorm.bias']\n",
      "- This IS expected if you are initializing TFBertModel from a PyTorch model trained on another task or with another architecture (e.g. initializing a TFBertForSequenceClassification model from a BertForPreTraining model).\n",
      "- This IS NOT expected if you are initializing TFBertModel from a PyTorch model that you expect to be exactly identical (e.g. initializing a TFBertForSequenceClassification model from a BertForSequenceClassification model).\n",
      "All the weights of TFBertModel were initialized from the PyTorch model.\n",
      "If your task is similar to the task the model of the checkpoint was trained on, you can already use TFBertModel for predictions without further training.\n"
     ]
    }
   ],
   "source": [
    "# BERT 모델 및 토크나이저 로드\n",
    "tokenizer = BertTokenizer.from_pretrained('bert-base-multilingual-cased')\n",
    "bert_model = TFBertModel.from_pretrained('bert-base-multilingual-cased')\n"
   ]
  },
  {
   "cell_type": "code",
   "execution_count": 8,
   "id": "b0099f10-2159-4993-ba92-834533114277",
   "metadata": {},
   "outputs": [],
   "source": [
    "# 감정 태그를 숫자로 매핑\n",
    "tag_mapping = {tag: idx for idx, tag in enumerate(data['태그'].unique())}\n",
    "inverse_tag_mapping = {v: k for k, v in tag_mapping.items()}\n",
    "data['태그_encoded'] = data['태그'].map(tag_mapping)\n",
    "\n",
    "# 데이터 분할\n",
    "train,test= train_test_split(data[[\"가사\",'태그_encoded']], test_size=0.2, random_state=42)"
   ]
  },
  {
   "cell_type": "code",
   "execution_count": 10,
   "id": "020d5e78-f61c-4c21-a73f-95e3afa3c170",
   "metadata": {},
   "outputs": [],
   "source": [
    "x_train = tokenizer(\n",
    "    text=train.가사.tolist(),\n",
    "    add_special_tokens=True,\n",
    "    max_length=100,\n",
    "    truncation=True,\n",
    "    padding=True, \n",
    "    return_tensors='tf',\n",
    "    return_token_type_ids = False,\n",
    "    return_attention_mask = True,\n",
    "    verbose = True)\n",
    "\n",
    "\n",
    "x_test = tokenizer(\n",
    "    text=test.가사.tolist(),\n",
    "    add_special_tokens=True,\n",
    "    max_length=100,\n",
    "    truncation=True,\n",
    "    padding=True, \n",
    "    return_tensors='tf',\n",
    "    return_token_type_ids = False,\n",
    "    return_attention_mask = True,\n",
    "    verbose = True)"
   ]
  },
  {
   "cell_type": "code",
   "execution_count": 11,
   "id": "33551885-f273-4d86-9dd7-42a7870bf25d",
   "metadata": {},
   "outputs": [],
   "source": [
    "from tensorflow.keras.optimizers import Adam\n",
    "from tensorflow.keras.callbacks import EarlyStopping\n",
    "from tensorflow.keras.initializers import TruncatedNormal\n",
    "from tensorflow.keras.losses import CategoricalCrossentropy\n",
    "from tensorflow.keras.metrics import CategoricalAccuracy\n",
    "from tensorflow.keras.utils import to_categorical"
   ]
  },
  {
   "cell_type": "code",
   "execution_count": 12,
   "id": "e4a0dbdc-332a-4aee-a064-557f5aaf935c",
   "metadata": {},
   "outputs": [],
   "source": [
    "max_len = 100\n",
    "import tensorflow as tf\n",
    "from tensorflow.keras.layers import Input, Dense\n",
    "\n",
    "input_ids = Input(shape=(max_len,), dtype=tf.int32, name=\"input_ids\")\n",
    "input_mask = Input(shape=(max_len,), dtype=tf.int32, name=\"attention_mask\")\n",
    "embeddings = bert_model(input_ids,attention_mask = input_mask)[0] #(0 is the last hidden states,1 means pooler_output)\n",
    "out = tf.keras.layers.GlobalMaxPool1D()(embeddings)\n",
    "out = Dense(256, activation='relu')(out)\n",
    "out = tf.keras.layers.Dropout(0.3)(out)\n",
    "out = Dense(32,activation = 'relu')(out)\n",
    "\n",
    "y = Dense(4,activation = 'softmax')(out)\n",
    "    \n",
    "model = tf.keras.Model(inputs=[input_ids, input_mask], outputs=y)\n",
    "model.layers[2].trainable = True\n"
   ]
  },
  {
   "cell_type": "code",
   "execution_count": 13,
   "id": "53952b96-0006-4707-a179-3fee78e26d84",
   "metadata": {},
   "outputs": [
    {
     "name": "stdout",
     "output_type": "stream",
     "text": [
      "Model: \"model\"\n",
      "__________________________________________________________________________________________________\n",
      " Layer (type)                   Output Shape         Param #     Connected to                     \n",
      "==================================================================================================\n",
      " input_ids (InputLayer)         [(None, 100)]        0           []                               \n",
      "                                                                                                  \n",
      " attention_mask (InputLayer)    [(None, 100)]        0           []                               \n",
      "                                                                                                  \n",
      " tf_bert_model (TFBertModel)    TFBaseModelOutputWi  177853440   ['input_ids[0][0]',              \n",
      "                                thPoolingAndCrossAt               'attention_mask[0][0]']         \n",
      "                                tentions(last_hidde                                               \n",
      "                                n_state=(None, 100,                                               \n",
      "                                 768),                                                            \n",
      "                                 pooler_output=(Non                                               \n",
      "                                e, 768),                                                          \n",
      "                                 past_key_values=No                                               \n",
      "                                ne, hidden_states=N                                               \n",
      "                                one, attentions=Non                                               \n",
      "                                e, cross_attentions                                               \n",
      "                                =None)                                                            \n",
      "                                                                                                  \n",
      " global_max_pooling1d (GlobalMa  (None, 768)         0           ['tf_bert_model[0][0]']          \n",
      " xPooling1D)                                                                                      \n",
      "                                                                                                  \n",
      " dense (Dense)                  (None, 256)          196864      ['global_max_pooling1d[0][0]']   \n",
      "                                                                                                  \n",
      " dropout_37 (Dropout)           (None, 256)          0           ['dense[0][0]']                  \n",
      "                                                                                                  \n",
      " dense_1 (Dense)                (None, 32)           8224        ['dropout_37[0][0]']             \n",
      "                                                                                                  \n",
      " dense_2 (Dense)                (None, 4)            132         ['dense_1[0][0]']                \n",
      "                                                                                                  \n",
      "==================================================================================================\n",
      "Total params: 178,058,660\n",
      "Trainable params: 178,058,660\n",
      "Non-trainable params: 0\n",
      "__________________________________________________________________________________________________\n"
     ]
    }
   ],
   "source": [
    "model.summary()"
   ]
  },
  {
   "cell_type": "code",
   "execution_count": 14,
   "id": "496f4e90-7d86-42ac-88df-7141446e2e7f",
   "metadata": {},
   "outputs": [],
   "source": [
    "optimizer = tf.keras.optimizers.legacy.Adam(\n",
    "    learning_rate=5e-05, # this learning rate is for bert model , taken from huggingface website \n",
    "    \n",
    "    clipnorm=1.0)\n",
    "\n",
    "# Set loss and metrics\n",
    "loss =CategoricalCrossentropy(from_logits = True)\n",
    "metric = CategoricalAccuracy(),\n",
    "# Compile the model\n",
    "model.compile(\n",
    "    optimizer = optimizer,\n",
    "    loss = loss, \n",
    "    metrics = metric)"
   ]
  },
  {
   "cell_type": "code",
   "execution_count": 15,
   "id": "9263a617-b38d-4628-ba06-1ee717aa4f92",
   "metadata": {},
   "outputs": [
    {
     "name": "stdout",
     "output_type": "stream",
     "text": [
      "Epoch 1/50\n",
      "WARNING:tensorflow:Gradients do not exist for variables ['tf_bert_model/bert/pooler/dense/kernel:0', 'tf_bert_model/bert/pooler/dense/bias:0'] when minimizing the loss. If you're using `model.compile()`, did you forget to provide a `loss` argument?\n",
      "WARNING:tensorflow:Gradients do not exist for variables ['tf_bert_model/bert/pooler/dense/kernel:0', 'tf_bert_model/bert/pooler/dense/bias:0'] when minimizing the loss. If you're using `model.compile()`, did you forget to provide a `loss` argument?\n",
      "89/89 [==============================] - 26s 130ms/step - loss: 1.3260 - categorical_accuracy: 0.3808 - val_loss: 1.3035 - val_categorical_accuracy: 0.3716\n",
      "Epoch 2/50\n",
      "89/89 [==============================] - 9s 98ms/step - loss: 1.2880 - categorical_accuracy: 0.3961 - val_loss: 1.3074 - val_categorical_accuracy: 0.3737\n",
      "Epoch 3/50\n",
      "89/89 [==============================] - 9s 101ms/step - loss: 1.2786 - categorical_accuracy: 0.4091 - val_loss: 1.2946 - val_categorical_accuracy: 0.3716\n",
      "Epoch 4/50\n",
      "89/89 [==============================] - 9s 98ms/step - loss: 1.2744 - categorical_accuracy: 0.3933 - val_loss: 1.3121 - val_categorical_accuracy: 0.3681\n",
      "Epoch 5/50\n",
      "89/89 [==============================] - 9s 102ms/step - loss: 1.2396 - categorical_accuracy: 0.4137 - val_loss: 1.2909 - val_categorical_accuracy: 0.3765\n",
      "Epoch 6/50\n",
      "89/89 [==============================] - 9s 101ms/step - loss: 1.1734 - categorical_accuracy: 0.4689 - val_loss: 1.2617 - val_categorical_accuracy: 0.4166\n",
      "Epoch 7/50\n",
      "89/89 [==============================] - 9s 102ms/step - loss: 1.0383 - categorical_accuracy: 0.5560 - val_loss: 1.2268 - val_categorical_accuracy: 0.4419\n",
      "Epoch 8/50\n",
      "89/89 [==============================] - 9s 98ms/step - loss: 0.8842 - categorical_accuracy: 0.6273 - val_loss: 1.2893 - val_categorical_accuracy: 0.4849\n",
      "Epoch 9/50\n",
      "89/89 [==============================] - 9s 98ms/step - loss: 0.7357 - categorical_accuracy: 0.6908 - val_loss: 1.3930 - val_categorical_accuracy: 0.5025\n",
      "Epoch 10/50\n",
      "89/89 [==============================] - 9s 98ms/step - loss: 0.6212 - categorical_accuracy: 0.7521 - val_loss: 1.4387 - val_categorical_accuracy: 0.5025\n",
      "Epoch 11/50\n",
      "89/89 [==============================] - 9s 98ms/step - loss: 0.5186 - categorical_accuracy: 0.8022 - val_loss: 1.4355 - val_categorical_accuracy: 0.5257\n",
      "Epoch 12/50\n",
      "89/89 [==============================] - 9s 100ms/step - loss: 0.4427 - categorical_accuracy: 0.8369 - val_loss: 1.6002 - val_categorical_accuracy: 0.5327\n"
     ]
    }
   ],
   "source": [
    "# 가사 앞뒤로 나눠서 2배로 늘린 모델\n",
    "from tensorflow.keras.callbacks import EarlyStopping\n",
    "\n",
    "# EarlyStopping 콜백 정의\n",
    "early_stopping = EarlyStopping(monitor='val_loss', patience=5, restore_best_weights=True)\n",
    "\n",
    "# 모델 학습에 EarlyStopping 콜백 적용\n",
    "train_history = model.fit(\n",
    "    x={'input_ids': x_train['input_ids'], 'attention_mask': x_train['attention_mask']},\n",
    "    y=to_categorical(train.태그_encoded),\n",
    "    validation_data=(\n",
    "        {'input_ids': x_test['input_ids'], 'attention_mask': x_test['attention_mask']},\n",
    "        to_categorical(test.태그_encoded)),\n",
    "    epochs=50,\n",
    "    batch_size=64,\n",
    "    callbacks=[early_stopping]\n",
    ")\n"
   ]
  },
  {
   "cell_type": "code",
   "execution_count": 11,
   "id": "1c81bc7f-af79-4afc-a742-58a2d1a6b3aa",
   "metadata": {
    "scrolled": true
   },
   "outputs": [
    {
     "name": "stdout",
     "output_type": "stream",
     "text": [
      "Epoch 1/50\n",
      "WARNING:tensorflow:Gradients do not exist for variables ['tf_bert_model/bert/pooler/dense/kernel:0', 'tf_bert_model/bert/pooler/dense/bias:0'] when minimizing the loss. If you're using `model.compile()`, did you forget to provide a `loss` argument?\n",
      "WARNING:tensorflow:Gradients do not exist for variables ['tf_bert_model/bert/pooler/dense/kernel:0', 'tf_bert_model/bert/pooler/dense/bias:0'] when minimizing the loss. If you're using `model.compile()`, did you forget to provide a `loss` argument?\n",
      "45/45 [==============================] - 30s 216ms/step - loss: 1.3613 - balanced_accuracy: 0.3780 - val_loss: 1.3240 - val_balanced_accuracy: 0.3615\n",
      "Epoch 2/50\n",
      "45/45 [==============================] - 8s 168ms/step - loss: 1.2916 - balanced_accuracy: 0.3787 - val_loss: 1.3281 - val_balanced_accuracy: 0.3558\n",
      "Epoch 3/50\n",
      "45/45 [==============================] - 8s 169ms/step - loss: 1.2746 - balanced_accuracy: 0.3935 - val_loss: 1.3174 - val_balanced_accuracy: 0.3558\n",
      "Epoch 4/50\n",
      "45/45 [==============================] - 8s 169ms/step - loss: 1.2670 - balanced_accuracy: 0.4016 - val_loss: 1.3140 - val_balanced_accuracy: 0.3558\n",
      "Epoch 5/50\n",
      "45/45 [==============================] - 8s 169ms/step - loss: 1.2463 - balanced_accuracy: 0.4002 - val_loss: 1.3759 - val_balanced_accuracy: 0.3601\n",
      "Epoch 6/50\n",
      "45/45 [==============================] - 8s 169ms/step - loss: 1.2266 - balanced_accuracy: 0.4206 - val_loss: 1.3423 - val_balanced_accuracy: 0.3572\n",
      "Epoch 7/50\n",
      "45/45 [==============================] - 8s 168ms/step - loss: 1.1977 - balanced_accuracy: 0.4263 - val_loss: 1.3388 - val_balanced_accuracy: 0.3516\n",
      "Epoch 8/50\n",
      "45/45 [==============================] - 8s 169ms/step - loss: 1.1752 - balanced_accuracy: 0.4432 - val_loss: 1.3258 - val_balanced_accuracy: 0.3558\n",
      "Epoch 9/50\n",
      "45/45 [==============================] - 8s 169ms/step - loss: 1.1726 - balanced_accuracy: 0.4407 - val_loss: 1.3645 - val_balanced_accuracy: 0.3699\n",
      "Epoch 10/50\n",
      "45/45 [==============================] - 8s 169ms/step - loss: 1.1586 - balanced_accuracy: 0.4305 - val_loss: 1.3956 - val_balanced_accuracy: 0.3333\n",
      "Epoch 11/50\n",
      "45/45 [==============================] - 8s 168ms/step - loss: 1.1369 - balanced_accuracy: 0.4463 - val_loss: 1.3703 - val_balanced_accuracy: 0.3812\n",
      "Epoch 12/50\n",
      "45/45 [==============================] - 8s 169ms/step - loss: 1.0730 - balanced_accuracy: 0.4886 - val_loss: 1.4991 - val_balanced_accuracy: 0.3868\n",
      "Epoch 13/50\n",
      "45/45 [==============================] - 8s 169ms/step - loss: 0.9937 - balanced_accuracy: 0.5649 - val_loss: 1.4744 - val_balanced_accuracy: 0.4290\n",
      "Epoch 14/50\n",
      "45/45 [==============================] - 8s 169ms/step - loss: 0.8418 - balanced_accuracy: 0.6459 - val_loss: 1.5851 - val_balanced_accuracy: 0.4332\n",
      "Epoch 15/50\n",
      "45/45 [==============================] - 8s 169ms/step - loss: 0.6947 - balanced_accuracy: 0.7149 - val_loss: 1.6829 - val_balanced_accuracy: 0.4585\n",
      "Epoch 16/50\n",
      "45/45 [==============================] - 8s 169ms/step - loss: 0.5762 - balanced_accuracy: 0.7747 - val_loss: 1.7454 - val_balanced_accuracy: 0.4388\n",
      "Epoch 17/50\n",
      "45/45 [==============================] - 8s 169ms/step - loss: 0.4703 - balanced_accuracy: 0.8317 - val_loss: 1.7285 - val_balanced_accuracy: 0.4388\n",
      "Epoch 18/50\n",
      "45/45 [==============================] - 8s 169ms/step - loss: 0.4129 - balanced_accuracy: 0.8557 - val_loss: 2.0612 - val_balanced_accuracy: 0.4473\n",
      "Epoch 19/50\n",
      "45/45 [==============================] - 8s 168ms/step - loss: 0.3639 - balanced_accuracy: 0.8740 - val_loss: 1.9171 - val_balanced_accuracy: 0.4290\n",
      "Epoch 20/50\n",
      "45/45 [==============================] - 8s 168ms/step - loss: 0.3024 - balanced_accuracy: 0.9078 - val_loss: 2.0689 - val_balanced_accuracy: 0.4374\n",
      "Epoch 21/50\n",
      "45/45 [==============================] - 8s 168ms/step - loss: 0.2787 - balanced_accuracy: 0.9088 - val_loss: 2.2893 - val_balanced_accuracy: 0.4402\n",
      "Epoch 22/50\n",
      "45/45 [==============================] - 8s 169ms/step - loss: 0.2442 - balanced_accuracy: 0.9197 - val_loss: 2.2827 - val_balanced_accuracy: 0.4318\n",
      "Epoch 23/50\n",
      "45/45 [==============================] - 8s 169ms/step - loss: 0.2263 - balanced_accuracy: 0.9152 - val_loss: 2.2842 - val_balanced_accuracy: 0.4177\n",
      "Epoch 24/50\n",
      "45/45 [==============================] - 8s 169ms/step - loss: 0.2232 - balanced_accuracy: 0.9187 - val_loss: 2.3636 - val_balanced_accuracy: 0.4233\n",
      "Epoch 25/50\n",
      "45/45 [==============================] - 8s 168ms/step - loss: 0.1953 - balanced_accuracy: 0.9289 - val_loss: 2.4904 - val_balanced_accuracy: 0.4430\n",
      "Epoch 26/50\n",
      "45/45 [==============================] - 8s 168ms/step - loss: 0.1746 - balanced_accuracy: 0.9324 - val_loss: 2.4448 - val_balanced_accuracy: 0.4416\n",
      "Epoch 27/50\n",
      "45/45 [==============================] - 8s 168ms/step - loss: 0.1610 - balanced_accuracy: 0.9349 - val_loss: 2.5301 - val_balanced_accuracy: 0.4304\n",
      "Epoch 28/50\n",
      "45/45 [==============================] - 8s 168ms/step - loss: 0.1685 - balanced_accuracy: 0.9331 - val_loss: 2.9059 - val_balanced_accuracy: 0.4332\n",
      "Epoch 29/50\n",
      "45/45 [==============================] - 8s 168ms/step - loss: 0.1708 - balanced_accuracy: 0.9314 - val_loss: 2.6617 - val_balanced_accuracy: 0.4641\n",
      "Epoch 30/50\n",
      "45/45 [==============================] - 8s 168ms/step - loss: 0.1454 - balanced_accuracy: 0.9359 - val_loss: 3.0452 - val_balanced_accuracy: 0.4346\n",
      "Epoch 31/50\n",
      "45/45 [==============================] - 8s 168ms/step - loss: 0.1360 - balanced_accuracy: 0.9380 - val_loss: 2.7267 - val_balanced_accuracy: 0.4360\n",
      "Epoch 32/50\n",
      "45/45 [==============================] - 8s 168ms/step - loss: 0.1320 - balanced_accuracy: 0.9419 - val_loss: 2.9031 - val_balanced_accuracy: 0.4374\n",
      "Epoch 33/50\n",
      "45/45 [==============================] - 8s 168ms/step - loss: 0.1392 - balanced_accuracy: 0.9363 - val_loss: 2.7765 - val_balanced_accuracy: 0.4501\n",
      "Epoch 34/50\n",
      "45/45 [==============================] - 8s 168ms/step - loss: 0.1371 - balanced_accuracy: 0.9338 - val_loss: 2.6801 - val_balanced_accuracy: 0.4430\n",
      "Epoch 35/50\n",
      "45/45 [==============================] - 8s 168ms/step - loss: 0.1249 - balanced_accuracy: 0.9433 - val_loss: 2.9147 - val_balanced_accuracy: 0.4585\n",
      "Epoch 36/50\n",
      "45/45 [==============================] - 8s 168ms/step - loss: 0.1248 - balanced_accuracy: 0.9388 - val_loss: 2.9124 - val_balanced_accuracy: 0.4543\n",
      "Epoch 37/50\n",
      "45/45 [==============================] - 8s 168ms/step - loss: 0.1131 - balanced_accuracy: 0.9458 - val_loss: 3.0983 - val_balanced_accuracy: 0.4585\n",
      "Epoch 38/50\n",
      "45/45 [==============================] - 8s 168ms/step - loss: 0.1169 - balanced_accuracy: 0.9472 - val_loss: 3.3990 - val_balanced_accuracy: 0.4233\n",
      "Epoch 39/50\n",
      "45/45 [==============================] - 8s 168ms/step - loss: 0.1170 - balanced_accuracy: 0.9426 - val_loss: 2.8196 - val_balanced_accuracy: 0.4698\n",
      "Epoch 40/50\n",
      "45/45 [==============================] - 8s 168ms/step - loss: 0.1124 - balanced_accuracy: 0.9391 - val_loss: 3.1040 - val_balanced_accuracy: 0.4374\n",
      "Epoch 41/50\n",
      "45/45 [==============================] - 8s 168ms/step - loss: 0.1148 - balanced_accuracy: 0.9416 - val_loss: 3.0760 - val_balanced_accuracy: 0.4233\n",
      "Epoch 42/50\n",
      "45/45 [==============================] - 8s 168ms/step - loss: 0.1138 - balanced_accuracy: 0.9388 - val_loss: 3.3720 - val_balanced_accuracy: 0.4487\n",
      "Epoch 43/50\n",
      "45/45 [==============================] - 8s 168ms/step - loss: 0.1206 - balanced_accuracy: 0.9373 - val_loss: 3.1141 - val_balanced_accuracy: 0.4276\n",
      "Epoch 44/50\n",
      "45/45 [==============================] - 8s 168ms/step - loss: 0.1288 - balanced_accuracy: 0.9384 - val_loss: 3.0189 - val_balanced_accuracy: 0.4374\n",
      "Epoch 45/50\n",
      "45/45 [==============================] - 8s 168ms/step - loss: 0.1154 - balanced_accuracy: 0.9402 - val_loss: 3.1644 - val_balanced_accuracy: 0.4557\n",
      "Epoch 46/50\n",
      "45/45 [==============================] - 8s 168ms/step - loss: 0.1057 - balanced_accuracy: 0.9461 - val_loss: 3.0479 - val_balanced_accuracy: 0.4388\n",
      "Epoch 47/50\n",
      "45/45 [==============================] - 8s 168ms/step - loss: 0.1073 - balanced_accuracy: 0.9490 - val_loss: 3.8806 - val_balanced_accuracy: 0.4304\n",
      "Epoch 48/50\n",
      "45/45 [==============================] - 8s 168ms/step - loss: 0.1189 - balanced_accuracy: 0.9412 - val_loss: 3.1006 - val_balanced_accuracy: 0.4627\n",
      "Epoch 49/50\n",
      "45/45 [==============================] - 8s 168ms/step - loss: 0.1078 - balanced_accuracy: 0.9419 - val_loss: 3.3262 - val_balanced_accuracy: 0.4430\n",
      "Epoch 50/50\n",
      "45/45 [==============================] - 8s 168ms/step - loss: 0.1058 - balanced_accuracy: 0.9405 - val_loss: 3.5247 - val_balanced_accuracy: 0.4290\n"
     ]
    }
   ],
   "source": [
    "# 데이터 원래 앞에만 가져다 쓴 모델\n",
    "train_history = model.fit(\n",
    "    x ={'input_ids':x_train['input_ids'],'attention_mask':x_train['attention_mask']} ,\n",
    "    y = to_categorical(train.태그_encoded),\n",
    "    validation_data = (\n",
    "    {'input_ids':x_test['input_ids'],'attention_mask':x_test['attention_mask']}, to_categorical(test.태그_encoded)),\n",
    "    epochs=50,\n",
    "    batch_size=64)"
   ]
  },
  {
   "cell_type": "code",
   "execution_count": 16,
   "id": "95211e68-cf23-4ab0-bcc2-9a579dd36d96",
   "metadata": {
    "scrolled": true
   },
   "outputs": [
    {
     "name": "stdout",
     "output_type": "stream",
     "text": [
      "45/45 [==============================] - 3s 22ms/step\n",
      "Predicted Tags: ['night', 'noon', 'evening', 'noon', 'noon', 'evening', 'evening', 'noon', 'evening', 'noon', 'evening', 'evening', 'evening', 'evening', 'evening', 'evening', 'night', 'night', 'night', 'noon', 'night', 'evening', 'noon', 'noon', 'night', 'evening', 'evening', 'noon', 'evening', 'night', 'night', 'noon', 'noon', 'noon', 'noon', 'evening', 'evening', 'noon', 'evening', 'noon', 'noon', 'noon', 'evening', 'noon', 'evening', 'noon', 'evening', 'evening', 'noon', 'noon', 'night', 'noon', 'noon', 'noon', 'noon', 'night', 'night', 'noon', 'evening', 'noon', 'noon', 'noon', 'night', 'noon', 'night', 'night', 'evening', 'noon', 'evening', 'evening', 'night', 'noon', 'evening', 'evening', 'noon', 'noon', 'night', 'noon', 'noon', 'night', 'noon', 'night', 'noon', 'noon', 'night', 'evening', 'evening', 'noon', 'evening', 'evening', 'noon', 'night', 'noon', 'noon', 'noon', 'noon', 'night', 'evening', 'night', 'noon', 'evening', 'evening', 'noon', 'night', 'night', 'noon', 'evening', 'evening', 'noon', 'morning', 'evening', 'noon', 'night', 'evening', 'evening', 'night', 'evening', 'noon', 'evening', 'noon', 'evening', 'noon', 'night', 'evening', 'night', 'night', 'noon', 'noon', 'night', 'evening', 'evening', 'evening', 'evening', 'noon', 'noon', 'night', 'night', 'noon', 'noon', 'evening', 'evening', 'noon', 'noon', 'night', 'noon', 'evening', 'evening', 'evening', 'noon', 'night', 'night', 'evening', 'noon', 'noon', 'night', 'evening', 'noon', 'noon', 'noon', 'evening', 'evening', 'evening', 'evening', 'evening', 'evening', 'noon', 'evening', 'night', 'noon', 'evening', 'noon', 'noon', 'noon', 'evening', 'evening', 'evening', 'night', 'noon', 'night', 'night', 'evening', 'noon', 'noon', 'evening', 'evening', 'evening', 'noon', 'noon', 'noon', 'noon', 'evening', 'night', 'night', 'noon', 'night', 'evening', 'noon', 'noon', 'evening', 'noon', 'evening', 'noon', 'night', 'night', 'evening', 'evening', 'night', 'noon', 'noon', 'evening', 'noon', 'evening', 'noon', 'night', 'noon', 'noon', 'evening', 'noon', 'noon', 'evening', 'noon', 'evening', 'evening', 'noon', 'noon', 'noon', 'evening', 'evening', 'noon', 'night', 'night', 'evening', 'evening', 'noon', 'noon', 'noon', 'night', 'evening', 'evening', 'noon', 'evening', 'night', 'evening', 'noon', 'noon', 'evening', 'night', 'noon', 'noon', 'evening', 'night', 'night', 'evening', 'noon', 'noon', 'noon', 'noon', 'noon', 'night', 'noon', 'evening', 'evening', 'evening', 'night', 'noon', 'night', 'noon', 'evening', 'night', 'night', 'noon', 'night', 'night', 'noon', 'evening', 'evening', 'evening', 'noon', 'night', 'evening', 'noon', 'night', 'noon', 'evening', 'noon', 'evening', 'night', 'evening', 'noon', 'noon', 'night', 'evening', 'evening', 'noon', 'night', 'noon', 'evening', 'night', 'evening', 'noon', 'night', 'noon', 'noon', 'evening', 'evening', 'evening', 'evening', 'evening', 'noon', 'night', 'evening', 'evening', 'noon', 'evening', 'night', 'evening', 'evening', 'noon', 'night', 'night', 'noon', 'noon', 'noon', 'night', 'noon', 'evening', 'noon', 'noon', 'night', 'evening', 'night', 'evening', 'noon', 'night', 'night', 'noon', 'noon', 'noon', 'night', 'evening', 'noon', 'evening', 'night', 'night', 'night', 'noon', 'noon', 'night', 'night', 'evening', 'noon', 'noon', 'night', 'night', 'evening', 'evening', 'night', 'noon', 'noon', 'noon', 'night', 'evening', 'evening', 'evening', 'noon', 'noon', 'night', 'night', 'evening', 'night', 'night', 'night', 'night', 'night', 'noon', 'night', 'evening', 'noon', 'noon', 'noon', 'noon', 'night', 'noon', 'noon', 'noon', 'evening', 'noon', 'night', 'night', 'noon', 'evening', 'noon', 'noon', 'night', 'noon', 'noon', 'night', 'evening', 'noon', 'night', 'noon', 'evening', 'noon', 'evening', 'night', 'noon', 'evening', 'evening', 'evening', 'evening', 'noon', 'evening', 'night', 'noon', 'evening', 'night', 'evening', 'noon', 'noon', 'evening', 'noon', 'night', 'night', 'noon', 'noon', 'noon', 'night', 'night', 'evening', 'noon', 'noon', 'night', 'evening', 'night', 'night', 'noon', 'noon', 'noon', 'night', 'noon', 'night', 'night', 'evening', 'evening', 'noon', 'evening', 'noon', 'night', 'night', 'evening', 'evening', 'evening', 'evening', 'evening', 'night', 'evening', 'evening', 'night', 'evening', 'night', 'night', 'evening', 'noon', 'evening', 'evening', 'evening', 'evening', 'evening', 'noon', 'night', 'evening', 'night', 'noon', 'evening', 'evening', 'night', 'noon', 'night', 'night', 'noon', 'noon', 'evening', 'night', 'noon', 'night', 'noon', 'night', 'noon', 'noon', 'noon', 'noon', 'noon', 'evening', 'noon', 'night', 'noon', 'noon', 'noon', 'night', 'evening', 'noon', 'night', 'noon', 'night', 'noon', 'night', 'night', 'night', 'evening', 'noon', 'noon', 'noon', 'evening', 'night', 'evening', 'evening', 'evening', 'noon', 'evening', 'noon', 'noon', 'noon', 'noon', 'evening', 'noon', 'evening', 'night', 'evening', 'evening', 'morning', 'night', 'noon', 'evening', 'evening', 'evening', 'evening', 'noon', 'evening', 'night', 'noon', 'noon', 'night', 'evening', 'evening', 'noon', 'evening', 'evening', 'evening', 'evening', 'noon', 'noon', 'evening', 'noon', 'night', 'evening', 'evening', 'night', 'noon', 'noon', 'evening', 'noon', 'evening', 'night', 'evening', 'noon', 'evening', 'noon', 'night', 'evening', 'night', 'noon', 'night', 'evening', 'noon', 'night', 'noon', 'evening', 'night', 'noon', 'evening', 'noon', 'noon', 'night', 'evening', 'evening', 'evening', 'night', 'evening', 'night', 'evening', 'evening', 'noon', 'noon', 'evening', 'noon', 'evening', 'noon', 'night', 'noon', 'evening', 'evening', 'evening', 'evening', 'evening', 'noon', 'noon', 'evening', 'evening', 'evening', 'evening', 'noon', 'evening', 'noon', 'evening', 'evening', 'night', 'evening', 'evening', 'noon', 'noon', 'noon', 'noon', 'evening', 'evening', 'night', 'evening', 'noon', 'evening', 'evening', 'evening', 'noon', 'noon', 'evening', 'noon', 'night', 'evening', 'night', 'evening', 'noon', 'evening', 'noon', 'noon', 'evening', 'evening', 'night', 'noon', 'evening', 'night', 'noon', 'noon', 'noon', 'noon', 'night', 'noon', 'noon', 'night', 'noon', 'noon', 'noon', 'night', 'evening', 'night', 'night', 'night', 'night', 'noon', 'noon', 'evening', 'night', 'noon', 'night', 'night', 'noon', 'noon', 'evening', 'night', 'noon', 'evening', 'evening', 'noon', 'evening', 'noon', 'noon', 'noon', 'evening', 'noon', 'night', 'night', 'night', 'night', 'evening', 'evening', 'noon', 'evening', 'night', 'night', 'evening', 'evening', 'evening', 'noon', 'evening', 'evening', 'evening', 'noon', 'evening', 'evening', 'evening', 'night', 'noon', 'evening', 'evening', 'noon', 'noon', 'noon', 'night', 'noon', 'night', 'evening', 'evening', 'night', 'evening', 'night', 'night', 'evening', 'noon', 'noon', 'night', 'night', 'evening', 'noon', 'noon', 'night', 'night', 'evening', 'night', 'noon', 'evening', 'noon', 'evening', 'noon', 'noon', 'noon', 'night', 'night', 'noon', 'noon', 'evening', 'evening', 'evening', 'evening', 'night', 'evening', 'evening', 'evening', 'evening', 'evening', 'noon', 'evening', 'noon', 'noon', 'noon', 'evening', 'noon', 'noon', 'noon', 'night', 'noon', 'noon', 'noon', 'evening', 'evening', 'night', 'night', 'night', 'noon', 'evening', 'night', 'noon', 'noon', 'night', 'night', 'noon', 'noon', 'noon', 'evening', 'evening', 'night', 'noon', 'noon', 'evening', 'night', 'night', 'evening', 'night', 'evening', 'evening', 'evening', 'night', 'evening', 'noon', 'noon', 'evening', 'noon', 'night', 'evening', 'noon', 'evening', 'noon', 'evening', 'evening', 'noon', 'night', 'night', 'night', 'night', 'evening', 'noon', 'noon', 'noon', 'noon', 'noon', 'noon', 'noon', 'evening', 'noon', 'night', 'night', 'night', 'night', 'noon', 'night', 'evening', 'noon', 'evening', 'evening', 'evening', 'evening', 'night', 'evening', 'night', 'evening', 'evening', 'noon', 'noon', 'night', 'noon', 'night', 'night', 'noon', 'noon', 'noon', 'evening', 'noon', 'evening', 'night', 'night', 'noon', 'noon', 'evening', 'noon', 'night', 'night', 'night', 'evening', 'evening', 'noon', 'noon', 'evening', 'night', 'noon', 'evening', 'noon', 'night', 'evening', 'evening', 'night', 'noon', 'night', 'noon', 'noon', 'evening', 'evening', 'evening', 'night', 'evening', 'evening', 'noon', 'night', 'night', 'evening', 'evening', 'evening', 'evening', 'noon', 'noon', 'noon', 'evening', 'noon', 'night', 'evening', 'noon', 'evening', 'noon', 'night', 'noon', 'evening', 'noon', 'noon', 'evening', 'evening', 'noon', 'night', 'noon', 'evening', 'noon', 'night', 'night', 'noon', 'evening', 'evening', 'noon', 'evening', 'evening', 'night', 'noon', 'night', 'evening', 'evening', 'evening', 'night', 'night', 'noon', 'night', 'noon', 'evening', 'noon', 'noon', 'evening', 'night', 'noon', 'evening', 'night', 'noon', 'noon', 'evening', 'noon', 'evening', 'night', 'evening', 'noon', 'evening', 'noon', 'evening', 'noon', 'evening', 'evening', 'noon', 'noon', 'night', 'evening', 'noon', 'noon', 'evening', 'evening', 'noon', 'evening', 'noon', 'night', 'noon', 'night', 'noon', 'noon', 'night', 'noon', 'evening', 'noon', 'night', 'noon', 'evening', 'night', 'noon', 'evening', 'noon', 'noon', 'evening', 'night', 'evening', 'evening', 'noon', 'noon', 'evening', 'night', 'noon', 'noon', 'noon', 'night', 'evening', 'evening', 'noon', 'noon', 'night', 'noon', 'evening', 'evening', 'noon', 'night', 'evening', 'night', 'evening', 'noon', 'night', 'night', 'evening', 'night', 'noon', 'noon', 'evening', 'night', 'night', 'evening', 'evening', 'evening', 'evening', 'night', 'noon', 'evening', 'noon', 'night', 'noon', 'evening', 'night', 'night', 'evening', 'night', 'noon', 'noon', 'night', 'night', 'evening', 'noon', 'evening', 'night', 'evening', 'noon', 'evening', 'evening', 'noon', 'evening', 'evening', 'evening', 'noon', 'noon', 'night', 'noon', 'evening', 'night', 'noon', 'night', 'evening', 'evening', 'evening', 'noon', 'night', 'noon', 'night', 'night', 'noon', 'evening', 'evening', 'evening', 'noon', 'evening', 'evening', 'evening', 'evening', 'noon', 'evening', 'evening', 'evening', 'night', 'night', 'evening', 'night', 'noon', 'noon', 'night', 'noon', 'night', 'evening', 'evening', 'noon', 'noon', 'evening', 'night', 'evening', 'evening', 'evening', 'evening', 'evening', 'noon', 'night', 'night', 'evening', 'noon', 'night', 'noon', 'noon', 'night', 'noon', 'evening', 'evening', 'noon', 'noon', 'evening', 'noon', 'evening', 'evening', 'evening', 'noon', 'night', 'night', 'noon', 'evening', 'night', 'evening', 'noon', 'noon', 'night', 'night', 'night', 'noon', 'night', 'noon', 'noon', 'evening', 'evening', 'night', 'noon', 'noon', 'noon', 'noon', 'noon', 'night', 'evening', 'night', 'evening', 'noon', 'evening', 'night', 'night', 'night', 'noon', 'night', 'evening', 'evening', 'evening', 'noon', 'noon', 'night', 'noon', 'evening', 'noon', 'evening', 'night', 'evening', 'noon', 'evening', 'evening', 'night', 'evening', 'evening', 'evening', 'noon', 'noon', 'noon', 'evening', 'night', 'night', 'noon', 'evening', 'night', 'night', 'evening', 'evening', 'evening', 'night', 'evening', 'evening', 'night', 'noon', 'evening', 'evening', 'noon', 'night', 'evening', 'evening', 'evening', 'evening', 'noon', 'noon', 'night', 'noon', 'noon', 'noon', 'night', 'noon', 'night', 'noon', 'evening', 'noon', 'noon', 'night', 'noon', 'night', 'evening', 'evening', 'night', 'noon', 'noon', 'noon', 'night', 'noon', 'night', 'noon', 'evening', 'evening', 'noon', 'night', 'night', 'night', 'evening', 'night', 'evening', 'evening', 'noon', 'evening', 'evening', 'night', 'noon', 'noon', 'evening', 'night', 'noon', 'night', 'noon', 'noon', 'evening', 'noon', 'evening', 'evening', 'noon', 'evening', 'evening', 'evening', 'evening', 'night', 'noon', 'noon', 'night', 'night', 'night', 'noon', 'evening', 'evening', 'noon', 'noon', 'evening', 'noon', 'night', 'evening', 'evening', 'noon', 'noon', 'noon', 'noon', 'evening', 'noon', 'evening', 'night', 'night', 'evening', 'night', 'night', 'evening', 'noon', 'evening', 'night', 'evening', 'evening', 'noon', 'evening', 'noon', 'evening', 'evening', 'evening', 'night', 'noon', 'evening', 'night', 'evening', 'night', 'noon', 'evening', 'evening', 'evening', 'evening', 'noon', 'evening', 'evening', 'noon', 'evening', 'evening', 'evening', 'noon', 'noon', 'noon', 'evening', 'evening', 'night', 'noon', 'evening', 'noon', 'evening', 'noon', 'noon', 'noon', 'night', 'evening', 'evening', 'evening', 'noon', 'night', 'evening', 'night', 'noon', 'night', 'noon', 'evening', 'evening', 'evening', 'night', 'noon', 'evening', 'evening', 'evening', 'evening', 'night', 'evening', 'evening', 'night', 'noon', 'noon', 'noon', 'night', 'noon', 'noon', 'night', 'noon', 'night', 'evening', 'evening', 'noon', 'night', 'evening', 'evening', 'noon', 'night', 'noon', 'night', 'evening', 'noon', 'evening', 'evening', 'evening', 'night', 'night', 'night', 'evening', 'evening', 'night', 'night', 'night', 'evening', 'night', 'evening', 'noon', 'night', 'evening', 'evening', 'night', 'night', 'noon', 'noon', 'evening', 'evening', 'evening', 'night', 'evening', 'evening', 'night', 'noon', 'evening', 'evening', 'evening', 'noon', 'evening', 'noon', 'evening', 'noon', 'evening', 'evening', 'night', 'noon', 'evening', 'noon', 'noon', 'evening', 'night', 'night', 'noon', 'night']\n"
     ]
    }
   ],
   "source": [
    "# 예측 결과를 원래 태그로 변환\n",
    "predictions = model.predict(\n",
    "   {'input_ids':x_test['input_ids'],'attention_mask':x_test['attention_mask']})\n",
    "predicted_tags = np.argmax(predictions, axis=1)\n",
    "predicted_tags = [inverse_tag_mapping[tag] for tag in predicted_tags]\n",
    "\n",
    "print(\"Predicted Tags:\", predicted_tags)\n"
   ]
  },
  {
   "cell_type": "code",
   "execution_count": 17,
   "id": "b33ebe20-874f-4f04-ab76-75d48f562e6a",
   "metadata": {},
   "outputs": [
    {
     "name": "stdout",
     "output_type": "stream",
     "text": [
      "              precision    recall  f1-score   support\n",
      "\n",
      "           0       0.50      0.00      0.01       304\n",
      "           1       0.46      0.70      0.55       344\n",
      "           2       0.29      0.48      0.36       318\n",
      "           3       0.65      0.52      0.57       455\n",
      "\n",
      "    accuracy                           0.44      1421\n",
      "   macro avg       0.47      0.42      0.37      1421\n",
      "weighted avg       0.49      0.44      0.40      1421\n",
      "\n"
     ]
    }
   ],
   "source": [
    "from sklearn.metrics import classification_report\n",
    "\n",
    "# 예측 결과와 실제 레이블을 가지고 classification report 생성\n",
    "y_true = test.태그_encoded\n",
    "y_pred =np.argmax(predictions, axis=1)\n",
    "\n",
    "report = classification_report(y_true, y_pred)\n",
    "print(report)"
   ]
  },
  {
   "cell_type": "code",
   "execution_count": 18,
   "id": "69dbc793-81c0-4ae8-bf5e-776c5281f4e4",
   "metadata": {},
   "outputs": [],
   "source": [
    "model.save_weights('./model/time/time2_weights')\n",
    "model.save('./model/time/time2.h5')"
   ]
  },
  {
   "cell_type": "code",
   "execution_count": 21,
   "id": "b0e136bb-b83e-475e-8821-f737013f7043",
   "metadata": {},
   "outputs": [],
   "source": [
    "import matplotlib.pyplot as plt\n",
    "# 시각화\n",
    "def plot_graphs(history, string):\n",
    "    plt.plot(history.history[string])\n",
    "    plt.plot(history.history['val_'+string], '')\n",
    "    plt.xlabel(\"Epochs\")\n",
    "    plt.ylabel(string)\n",
    "    plt.legend([string, 'val_'+string])\n",
    "    plt.show()"
   ]
  },
  {
   "cell_type": "code",
   "execution_count": 24,
   "id": "be7e289f-7e98-4b4c-945c-435bf49845ee",
   "metadata": {},
   "outputs": [
    {
     "data": {
      "image/png": "[encoded data removed]",
      "text/plain": [
       "<Figure size 640x480 with 1 Axes>"
      ]
     },
     "metadata": {},
     "output_type": "display_data"
    }
   ],
   "source": [
    "plot_graphs(train_history, 'categorical_accuracy')"
   ]
  },
  {
   "cell_type": "code",
   "execution_count": 19,
   "id": "6ab369a5-3b15-415e-8893-f90e50058a59",
   "metadata": {},
   "outputs": [
    {
     "name": "stdin",
     "output_type": "stream",
     "text": [
      " 우울해도 돼 다 괜찮아질 거야 슬퍼해도 돼 다 지나갈 거니까 말해줘도 돼 너의 비밀 같은 것 내가 다시는 안 아프게 해줄게 네가 아픈 것 다 이해할 거야 네가 슬프면 내가 달려갈게 네 마음에 어떤 상처 있어도 내가 마음먹고 낫게 할거야 우울하면 내게 달려와 슬퍼지면 내게 달려와 우울하면 내게 달려와 다 새까맣게 까먹을 수 있게 해줄게 아파해도 돼 금방 나아질 거야 쉬어가도 돼 너무 달려왔잖아 원망해도 돼 네게 상처 준 것들 내가 다시는 혼자 두지 않을게 네가 아픈 것 다 알아줄 거야 말 안 해도 내가 알아채줄게 네게 날카로운 가시 있대도 내가 마음 열어 사랑할 거야 우울하면 내게 달려와 슬퍼지면 내게 달려와 우울하면 내게 달려와 다 새까맣게 까먹을 수 있게 해줄게 우울하면 내게 달려와 슬퍼지면 내게 달려와 우울하면 내게 달려와 다 새까맣게 까먹을 수 있게 해줄게 다 새까맣게 잊고 살아가게 해줄게\n"
     ]
    }
   ],
   "source": [
    "a=input()\n",
    "b=tokenizer(\n",
    "    text=a,\n",
    "    add_special_tokens=True,\n",
    "    max_length=100,\n",
    "    truncation=True,\n",
    "    padding=True, \n",
    "    return_tensors='tf',\n",
    "    return_token_type_ids = False,\n",
    "    return_attention_mask = True,\n",
    "    verbose = True)"
   ]
  },
  {
   "cell_type": "code",
   "execution_count": 20,
   "id": "700db7ca-d782-4f3d-a083-376f56a05951",
   "metadata": {},
   "outputs": [
    {
     "name": "stdout",
     "output_type": "stream",
     "text": [
      "1/1 [==============================] - 0s 36ms/step\n",
      "Predicted Tags: ['night']\n"
     ]
    }
   ],
   "source": [
    "predictions2 = model.predict({'input_ids': b['input_ids'], 'attention_mask': b['attention_mask']})\n",
    "predicted_tags2 = np.argmax(predictions2, axis=1)\n",
    "predicted_tags2 = [inverse_tag_mapping[tag] for tag in predicted_tags2]\n",
    "print(\"Predicted Tags:\", predicted_tags2)"
   ]
  },
  {
   "cell_type": "code",
   "execution_count": null,
   "id": "adec6f7b-e4aa-44f6-b007-e85b43531ed5",
   "metadata": {},
   "outputs": [],
   "source": []
  },
  {
   "cell_type": "code",
   "execution_count": null,
   "id": "51c89211-bf15-48f5-887b-dbce755d7a0c",
   "metadata": {},
   "outputs": [],
   "source": []
  },
  {
   "cell_type": "code",
   "execution_count": null,
   "id": "aed42707-62ac-4f42-a582-80c863db6441",
   "metadata": {},
   "outputs": [],
   "source": []
  },
  {
   "cell_type": "code",
   "execution_count": null,
   "id": "cf958dbd-4c40-4dbd-a100-a7d637a2461c",
   "metadata": {},
   "outputs": [],
   "source": []
  }
 ],
 "metadata": {
  "kernelspec": {
   "display_name": "Python 3 (ipykernel)",
   "language": "python",
   "name": "python3"
  },
  "language_info": {
   "codemirror_mode": {
    "name": "ipython",
    "version": 3
   },
   "file_extension": ".py",
   "mimetype": "text/x-python",
   "name": "python",
   "nbconvert_exporter": "python",
   "pygments_lexer": "ipython3",
   "version": "3.10.12"
  }
 },
 "nbformat": 4,
 "nbformat_minor": 5
}
