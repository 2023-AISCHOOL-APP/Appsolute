{
 "cells": [
  {
   "cell_type": "code",
   "execution_count": 1,
   "id": "980b0bc0",
   "metadata": {},
   "outputs": [],
   "source": []
  },
  {
   "cell_type": "code",
   "execution_count": 2,
   "id": "c8eb8eea",
   "metadata": {},
   "outputs": [
    {
     "name": "stdout",
     "output_type": "stream",
     "text": [
      "WARNING:tensorflow:From C:\\Users\\gjaischool\\anaconda3\\Lib\\site-packages\\keras\\src\\losses.py:2976: The name tf.losses.sparse_softmax_cross_entropy is deprecated. Please use tf.compat.v1.losses.sparse_softmax_cross_entropy instead.\n",
      "\n"
     ]
    }
   ],
   "source": [
    "import numpy as np\n",
    "import pandas as pd\n",
    "import tensorflow as tf\n",
    "from tqdm import tqdm\n",
    "import pandas as pd\n",
    "from sklearn.model_selection import train_test_split\n",
    "from transformers import BertTokenizer, TFBertModel\n",
    "from tensorflow.keras.models import Sequential\n",
    "from tensorflow.keras.layers import Dense, Flatten, Dropout\n",
    "from tensorflow.keras.optimizers import Adam\n",
    "import numpy as np\n",
    "\n"
   ]
  },
  {
   "cell_type": "code",
   "execution_count": 5,
   "id": "db8cdf8f",
   "metadata": {},
   "outputs": [],
   "source": [
    "import tensorflow as tf"
   ]
  },
  {
   "cell_type": "code",
   "execution_count": 4,
   "id": "63e0ac9a",
   "metadata": {},
   "outputs": [],
   "source": [
    "# 데이터 로드\n",
    "data = pd.read_csv(\"../crwaling/situation.csv\")\n",
    "data = data.drop(columns=[\"Unnamed: 0\"])"
   ]
  },
  {
   "cell_type": "code",
   "execution_count": null,
   "id": "4c6ea6cf",
   "metadata": {},
   "outputs": [],
   "source": [
    "# BERT 모델 불러오기\n",
    "bert_model_directory = \"bert_model_directory\"\n",
    "bert_model = TFBertModel.from_pretrained(bert_model_directory)\n",
    "tokenizer = BertTokenizer.from_pretrained(bert_model_directory)\n"
   ]
  },
  {
   "cell_type": "code",
   "execution_count": null,
   "id": "c498c657",
   "metadata": {},
   "outputs": [],
   "source": [
    "# 감정 태그를 숫자로 매핑\n",
    "tag_mapping = {tag: idx for idx, tag in enumerate(data['태그'].unique())}\n",
    "inverse_tag_mapping = {v: k for k, v in tag_mapping.items()}\n",
    "data['태그_encoded'] = data['태그'].map(tag_mapping)\n",
    "\n",
    "# 데이터 분할\n",
    "X_train,X_val, y_train,y_val = train_test_split(data[\"가사\"],data['태그_encoded'], test_size=0.2, random_state=42)"
   ]
  },
  {
   "cell_type": "code",
   "execution_count": null,
   "id": "d9b2e702",
   "metadata": {},
   "outputs": [],
   "source": [
    "tokenized_X_train = X_train.apply(lambda x: tokenizer.encode_plus(x, add_special_tokens=True, return_token_type_ids=True, return_attention_mask=True))\n",
    "tokenized_X_val = X_val.apply(lambda x: tokenizer.encode_plus(x, add_special_tokens=True, return_token_type_ids=True, return_attention_mask=True))\n",
    "max_length = 100  # Choose an appropriate maximum length\n",
    "\n",
    "# Extract Token IDs, Segment IDs, and Attention Mask\n",
    "token_ids_X_train = [seq['input_ids'] for seq in tokenized_X_train]\n",
    "segment_ids_X_train = [seq['token_type_ids'] for seq in tokenized_X_train]\n",
    "attention_mask_X_train = [seq['attention_mask'] for seq in tokenized_X_train]\n",
    "token_ids_X_val = [seq['input_ids'] for seq in tokenized_X_val]\n",
    "segment_ids_X_val = [seq['token_type_ids'] for seq in tokenized_X_val]\n",
    "attention_mask_X_val = [seq['attention_mask'] for seq in tokenized_X_val]\n",
    "\n",
    "# Pad sequences\n",
    "padded_token_ids_X_train = tf.keras.preprocessing.sequence.pad_sequences(token_ids_X_train, maxlen=max_length)\n",
    "padded_segment_ids_X_train = tf.keras.preprocessing.sequence.pad_sequences(segment_ids_X_train, maxlen=max_length)\n",
    "padded_attention_mask_X_train = tf.keras.preprocessing.sequence.pad_sequences(attention_mask_X_train, maxlen=max_length)\n",
    "padded_token_ids_X_val = tf.keras.preprocessing.sequence.pad_sequences(token_ids_X_val, maxlen=max_length)\n",
    "padded_segment_ids_X_val = tf.keras.preprocessing.sequence.pad_sequences(segment_ids_X_val, maxlen=max_length)\n",
    "padded_attention_mask_X_val = tf.keras.preprocessing.sequence.pad_sequences(attention_mask_X_val, maxlen=max_length)\n",
    "def create_model(bert_model, max_length, num_classes):\n",
    "    input_ids = tf.keras.layers.Input(shape=(max_length,), dtype=tf.int32, name=\"input_ids\")\n",
    "    attention_mask = tf.keras.layers.Input(shape=(max_length,), dtype=tf.int32, name=\"attention_mask\")\n",
    "    token_type_ids = tf.keras.layers.Input(shape=(max_length,), dtype=tf.int32, name=\"token_type_ids\")\n",
    "\n",
    "    # Extract BERT output for [CLS] token\n",
    "    bert_output = bert_model(input_ids, attention_mask=attention_mask, token_type_ids=token_type_ids)[0][:, 0, :]\n",
    "\n",
    "    # Apply dropout\n",
    "    dropout_output = tf.keras.layers.Dropout(0.2)(bert_output)\n",
    "\n",
    "    # Output layer for your task\n",
    "    output_layer = tf.keras.layers.Dense(num_classes, activation='softmax')(dropout_output)\n",
    "\n",
    "    # Define model inputs and outputs\n",
    "    inputs = {\"input_ids\": input_ids, \"attention_mask\": attention_mask, \"token_type_ids\": token_type_ids}\n",
    "    outputs = output_layer\n",
    "\n",
    "    # Create and compile the model\n",
    "    model = tf.keras.Model(inputs=inputs, outputs=outputs)\n",
    "    model.compile(loss='sparse_categorical_crossentropy', optimizer=tf.keras.optimizers.Adam(learning_rate=0.001), metrics=['accuracy'])\n",
    "\n",
    "    return model\n",
    "model= create_model(bert_model,100,4)"
   ]
  },
  {
   "cell_type": "code",
   "execution_count": null,
   "id": "5cafa606",
   "metadata": {},
   "outputs": [],
   "source": [
    "epochs = 1\n",
    "batch_size = 16\n",
    "\n",
    "history = model.fit(\n",
    "    {\"input_ids\": padded_token_ids_X_train, \"attention_mask\": padded_attention_mask_X_train, \"token_type_ids\": padded_segment_ids_X_train},\n",
    "    y_train,\n",
    "    epochs=epochs,\n",
    "    batch_size=batch_size,\n",
    "    validation_data=({\"input_ids\": padded_token_ids_X_val, \"attention_mask\": padded_attention_mask_X_val, \"token_type_ids\": padded_segment_ids_X_val}, y_val)\n",
    ")\n",
    "\n",
    "\n"
   ]
  }
 ],
 "metadata": {
  "kernelspec": {
   "display_name": "Python 3 (ipykernel)",
   "language": "python",
   "name": "python3"
  },
  "language_info": {
   "codemirror_mode": {
    "name": "ipython",
    "version": 3
   },
   "file_extension": ".py",
   "mimetype": "text/x-python",
   "name": "python",
   "nbconvert_exporter": "python",
   "pygments_lexer": "ipython3",
   "version": "3.11.5"
  }
 },
 "nbformat": 4,
 "nbformat_minor": 5
}
