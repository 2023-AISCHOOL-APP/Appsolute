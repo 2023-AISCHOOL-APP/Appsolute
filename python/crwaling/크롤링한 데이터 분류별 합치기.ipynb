{
 "cells": [
  {
   "cell_type": "code",
   "execution_count": 1,
   "id": "8a1cfe3a",
   "metadata": {},
   "outputs": [],
   "source": [
    "import pandas as pd\n",
    "import numpy as np\n"
   ]
  },
  {
   "cell_type": "code",
   "execution_count": 22,
   "id": "b18f1d36",
   "metadata": {},
   "outputs": [],
   "source": [
    "spring=pd.read_csv(\"./situation(time)/spring.csv\",index_col=0)\n",
    "summer=pd.read_csv(\"./situation(time)/summer.csv\",index_col=0)\n",
    "fall=pd.read_csv(\"./situation(time)/fall.csv\",index_col=0)\n",
    "winter=pd.read_csv(\"./situation(time)/winter.csv\",index_col=0)\n",
    "morning=pd.read_csv(\"./situation(time)/morning.csv\",index_col=0)\n",
    "noon=pd.read_csv(\"./situation(time)/noon.csv\",index_col=0)\n",
    "evening=pd.read_csv(\"./situation(time)/evening.csv\",index_col=0)\n",
    "night=pd.read_csv(\"./situation(time)/night.csv\",index_col=0)\n",
    "drive =pd.read_csv(\"./situation(place)/drive.csv\",index_col=0)\n",
    "rest=pd.read_csv(\"./situation(place)/rest.csv\",index_col=0)\n",
    "sleep=pd.read_csv(\"./situation(place)/sleep.csv\",index_col=0)\n",
    "training=pd.read_csv(\"./situation(place)/training.csv\",index_col=0)\n",
    "walking=pd.read_csv(\"./situation(place)/walking.csv\",index_col=0)"
   ]
  },
  {
   "cell_type": "code",
   "execution_count": 23,
   "id": "a8c3c265",
   "metadata": {},
   "outputs": [],
   "source": [
    "spring[\"태그\"]=\"spring\"\n",
    "summer[\"태그\"]=\"summer\"\n",
    "fall[\"태그\"]=\"fall\"\n",
    "winter[\"태그\"]=\"winter\"\n",
    "morning[\"태그\"]=\"morning\"\n",
    "noon[\"태그\"]=\"noon\"\n",
    "evening[\"태그\"]=\"evening\"\n",
    "night[\"태그\"]=\"night\"\n",
    "drive[\"태그\"]=\"drive\"\n",
    "rest[\"태그\"]=\"rest/sleep\"\n",
    "sleep[\"태그\"]=\"rest/sleep\"\n",
    "training[\"태그\"]=\"training\"\n",
    "walking[\"태그\"]=\"walking\""
   ]
  },
  {
   "cell_type": "code",
   "execution_count": 18,
   "id": "fc00b6cd",
   "metadata": {},
   "outputs": [],
   "source": [
    "fall2=fall.iloc[:1200, :]"
   ]
  },
  {
   "cell_type": "code",
   "execution_count": 19,
   "id": "dcd8d41a",
   "metadata": {},
   "outputs": [],
   "source": [
    "season= pd.concat([spring,summer,fall2,winter],ignore_index=True)\n",
    "\n",
    "time= pd.concat([morning,noon,evening,night],ignore_index=True)\n",
    "\n",
    "situation=pd.concat([drive,rest,sleep,training,walking],ignore_index=True)"
   ]
  },
  {
   "cell_type": "code",
   "execution_count": 13,
   "id": "6c4a4e02",
   "metadata": {},
   "outputs": [],
   "source": [
    "season[\"가사\"]= season[\"가사\"].str.replace(\"\\n\",\".\")\n",
    "season[\"가사\"] = season[\"가사\"].str.replace(\"[^a-zA-Z가-힣\\s\\.,']\", \"\", regex=True)"
   ]
  },
  {
   "cell_type": "code",
   "execution_count": 20,
   "id": "bfb8cd85",
   "metadata": {},
   "outputs": [],
   "source": [
    "season[\"가사\"]= season[\"가사\"].str.replace(\"\\n\",\".\")\n",
    "season[\"가사\"] = season[\"가사\"].str.replace(\"[^a-zA-Z가-힣\\s\\.,']\", \"\", regex=True)\n",
    "time[\"가사\"]= time[\"가사\"].str.replace(\"\\n\",\" \")\n",
    "time[\"가사\"] = time[\"가사\"].str.replace(\"[^a-zA-Z가-힣\\s\\.,']\", \"\", regex=True)\n",
    "situation[\"가사\"]= situation[\"가사\"].str.replace(\"\\n\",\" \")\n",
    "situation[\"가사\"] = situation[\"가사\"].str.replace(\"[^a-zA-Z가-힣\\s\\.,']\", \"\", regex=True)"
   ]
  },
  {
   "cell_type": "code",
   "execution_count": 24,
   "id": "11dc3c99",
   "metadata": {},
   "outputs": [
    {
     "data": {
      "text/plain": [
       "\"Said you play a little hard to get.And I bet it worked before but baby.Honestly I don't like this back and forth.I know you show me things.to make me think it's real.But you never really tell me how you feel oh.Hard to get.With me with me.What do you drink.What do you smoke.What do you do on Sundays alone.Is it all on you or do you have someone to hold.To tell you the truth.You ain't told me nothing at all.Said you keeping your distance from me.Then why do you text me cuz I ain't ya bestie.You know that it's more than nothin.Feel like ya test me.but that doesn't make me down.I see what you're doing.But hear me when I tell ya now.I already been through it.So you don't have to feel me out oh.I see what you're doing.But hear me when I tell ya now.I already been through it.So you don't have to feel me out.Said you play a little hard to get.And I bet it worked before but baby.Honestly I don't like this back and forth.I know you show me things.to make me think it's real.But you never really tell me how you feel oh.Hard to get.With me with me.What do you drink.What do you smoke.What do you do on Sundays alone.Do you go for a drive maybe down to the coast.Don't you think it would be better.if you did with somebody ya love.Your distance from me.Then why do you text me cuz I ain't ya bestie.You know that it's more than nothin.Feel like ya test me.but that doesn't make me down.I see what you're doing.But hear me when I tell ya now.I already been through it.So you don't have to feel me out oh.I see what you're doing.But hear me when I tell ya now.I already been through it.So you don't have to feel me out.Said you play a little hard to get.And I bet it worked before but baby.Honestly I don't like this back and forth.I know you show me things.to make me think it's real.But you never really tell me how you feel oh.Hard to get.With me with me\""
      ]
     },
     "execution_count": 24,
     "metadata": {},
     "output_type": "execute_result"
    }
   ],
   "source": [
    "\n"
   ]
  },
  {
   "cell_type": "code",
   "execution_count": null,
   "id": "ef2ba06c",
   "metadata": {},
   "outputs": [],
   "source": []
  },
  {
   "cell_type": "code",
   "execution_count": 15,
   "id": "745ad47e",
   "metadata": {},
   "outputs": [],
   "source": [
    "season.to_csv(\"season2.csv\",encoding=\"UTF-8\")"
   ]
  },
  {
   "cell_type": "code",
   "execution_count": 21,
   "id": "c3d4a369",
   "metadata": {},
   "outputs": [],
   "source": [
    "season.to_csv(\"season2.csv\",encoding=\"UTF-8\")\n",
    "time.to_csv(\"time2.csv\",encoding=\"UTF-8\")\n",
    "situation.to_csv(\"situation2.csv\",encoding=\"UTF-8\")"
   ]
  },
  {
   "cell_type": "code",
   "execution_count": 8,
   "id": "8932d8db",
   "metadata": {},
   "outputs": [
    {
     "name": "stdout",
     "output_type": "stream",
     "text": [
      "Season Tag Counts:\n",
      "태그\n",
      "winter    1210\n",
      "fall      1200\n",
      "summer    1190\n",
      "spring    1161\n",
      "Name: count, dtype: int64\n",
      "\n",
      "Time Tag Counts:\n",
      "태그\n",
      "night      1126\n",
      "noon        925\n",
      "evening     821\n",
      "morning     680\n",
      "Name: count, dtype: int64\n",
      "\n",
      "Situation Tag Counts:\n",
      "태그\n",
      "drive         1231\n",
      "walking       1208\n",
      "training       929\n",
      "rest/sleep     890\n",
      "Name: count, dtype: int64\n"
     ]
    }
   ],
   "source": [
    "season_tag_counts = season[\"태그\"].value_counts()\n",
    "print(\"Season Tag Counts:\")\n",
    "print(season_tag_counts)\n",
    "\n",
    "# For the time dataset\n",
    "time_tag_counts = time[\"태그\"].value_counts()\n",
    "print(\"\\nTime Tag Counts:\")\n",
    "print(time_tag_counts)\n",
    "\n",
    "# For the situation dataset\n",
    "situation_tag_counts = situation[\"태그\"].value_counts()\n",
    "print(\"\\nSituation Tag Counts:\")\n",
    "print(situation_tag_counts)"
   ]
  },
  {
   "cell_type": "code",
   "execution_count": 17,
   "id": "dd3b7443",
   "metadata": {},
   "outputs": [
    {
     "data": {
      "text/html": [
       "<div>\n",
       "<style scoped>\n",
       "    .dataframe tbody tr th:only-of-type {\n",
       "        vertical-align: middle;\n",
       "    }\n",
       "\n",
       "    .dataframe tbody tr th {\n",
       "        vertical-align: top;\n",
       "    }\n",
       "\n",
       "    .dataframe thead th {\n",
       "        text-align: right;\n",
       "    }\n",
       "</style>\n",
       "<table border=\"1\" class=\"dataframe\">\n",
       "  <thead>\n",
       "    <tr style=\"text-align: right;\">\n",
       "      <th></th>\n",
       "      <th>노래제목</th>\n",
       "      <th>가수</th>\n",
       "      <th>가사</th>\n",
       "      <th>태그</th>\n",
       "    </tr>\n",
       "  </thead>\n",
       "  <tbody>\n",
       "    <tr>\n",
       "      <th>1713</th>\n",
       "      <td>Heart</td>\n",
       "      <td>msftz (미스피츠)CONNECT 아티스트</td>\n",
       "      <td>Here I fall in love again\\n나는 정말 쉬워요\\n내게 좀만 다정...</td>\n",
       "      <td>fall</td>\n",
       "    </tr>\n",
       "    <tr>\n",
       "      <th>1714</th>\n",
       "      <td>Fuck What People Say</td>\n",
       "      <td>X Lovers</td>\n",
       "      <td>I feel so lonely no one to hold me\\nCity is sl...</td>\n",
       "      <td>fall</td>\n",
       "    </tr>\n",
       "    <tr>\n",
       "      <th>1715</th>\n",
       "      <td>That's Us</td>\n",
       "      <td>Anson Seabra</td>\n",
       "      <td>I shoulda known it wouldn't happen 'cause it w...</td>\n",
       "      <td>fall</td>\n",
       "    </tr>\n",
       "    <tr>\n",
       "      <th>1716</th>\n",
       "      <td>skeletons</td>\n",
       "      <td>keshi</td>\n",
       "      <td>Stressed out\\nFeeling lost and I don't know wh...</td>\n",
       "      <td>fall</td>\n",
       "    </tr>\n",
       "    <tr>\n",
       "      <th>1718</th>\n",
       "      <td>when the party's over</td>\n",
       "      <td>Billie Eilish(빌리 아일리시)</td>\n",
       "      <td>Don't you know I'm no good for you?\\nI've lear...</td>\n",
       "      <td>fall</td>\n",
       "    </tr>\n",
       "    <tr>\n",
       "      <th>...</th>\n",
       "      <td>...</td>\n",
       "      <td>...</td>\n",
       "      <td>...</td>\n",
       "      <td>...</td>\n",
       "    </tr>\n",
       "    <tr>\n",
       "      <th>2882</th>\n",
       "      <td>Older (feat. Sierra Deaton)</td>\n",
       "      <td>5 Seconds Of Summer(파이브 세컨즈 오브 썸머)</td>\n",
       "      <td>I don't wanna get older\\nWithout your head on ...</td>\n",
       "      <td>fall</td>\n",
       "    </tr>\n",
       "    <tr>\n",
       "      <th>2884</th>\n",
       "      <td>Middle Ground</td>\n",
       "      <td>Maroon 5(마룬 파이브)</td>\n",
       "      <td>I need peace I need hope I need guidance\\nI ne...</td>\n",
       "      <td>fall</td>\n",
       "    </tr>\n",
       "    <tr>\n",
       "      <th>2885</th>\n",
       "      <td>Waiting For It</td>\n",
       "      <td>Ellie Goulding(엘리 굴딩)</td>\n",
       "      <td>I've waiting for it, waiting for it (Ooh)\\nWai...</td>\n",
       "      <td>fall</td>\n",
       "    </tr>\n",
       "    <tr>\n",
       "      <th>2886</th>\n",
       "      <td>Good In Me</td>\n",
       "      <td>Andy Grammer(앤디 그래머)</td>\n",
       "      <td>I like the way, like the way that I look in yo...</td>\n",
       "      <td>fall</td>\n",
       "    </tr>\n",
       "    <tr>\n",
       "      <th>2887</th>\n",
       "      <td>Heaven (Acoustic)</td>\n",
       "      <td>Niall Horan(나일 호란)</td>\n",
       "      <td>Strange light revolves around you\\nYou float a...</td>\n",
       "      <td>fall</td>\n",
       "    </tr>\n",
       "  </tbody>\n",
       "</table>\n",
       "<p>964 rows × 4 columns</p>\n",
       "</div>"
      ],
      "text/plain": [
       "                             노래제목                                  가수  \\\n",
       "1713                        Heart            msftz (미스피츠)CONNECT 아티스트   \n",
       "1714         Fuck What People Say                            X Lovers   \n",
       "1715                    That's Us                        Anson Seabra   \n",
       "1716                    skeletons                               keshi   \n",
       "1718        when the party's over              Billie Eilish(빌리 아일리시)   \n",
       "...                           ...                                 ...   \n",
       "2882  Older (feat. Sierra Deaton)  5 Seconds Of Summer(파이브 세컨즈 오브 썸머)   \n",
       "2884                Middle Ground                    Maroon 5(마룬 파이브)   \n",
       "2885               Waiting For It               Ellie Goulding(엘리 굴딩)   \n",
       "2886                   Good In Me                Andy Grammer(앤디 그래머)   \n",
       "2887            Heaven (Acoustic)                  Niall Horan(나일 호란)   \n",
       "\n",
       "                                                     가사    태그  \n",
       "1713  Here I fall in love again\\n나는 정말 쉬워요\\n내게 좀만 다정...  fall  \n",
       "1714  I feel so lonely no one to hold me\\nCity is sl...  fall  \n",
       "1715  I shoulda known it wouldn't happen 'cause it w...  fall  \n",
       "1716  Stressed out\\nFeeling lost and I don't know wh...  fall  \n",
       "1718  Don't you know I'm no good for you?\\nI've lear...  fall  \n",
       "...                                                 ...   ...  \n",
       "2882  I don't wanna get older\\nWithout your head on ...  fall  \n",
       "2884  I need peace I need hope I need guidance\\nI ne...  fall  \n",
       "2885  I've waiting for it, waiting for it (Ooh)\\nWai...  fall  \n",
       "2886  I like the way, like the way that I look in yo...  fall  \n",
       "2887  Strange light revolves around you\\nYou float a...  fall  \n",
       "\n",
       "[964 rows x 4 columns]"
      ]
     },
     "execution_count": 17,
     "metadata": {},
     "output_type": "execute_result"
    }
   ],
   "source": []
  }
 ],
 "metadata": {
  "kernelspec": {
   "display_name": "Python 3 (ipykernel)",
   "language": "python",
   "name": "python3"
  },
  "language_info": {
   "codemirror_mode": {
    "name": "ipython",
    "version": 3
   },
   "file_extension": ".py",
   "mimetype": "text/x-python",
   "name": "python",
   "nbconvert_exporter": "python",
   "pygments_lexer": "ipython3",
   "version": "3.11.5"
  }
 },
 "nbformat": 4,
 "nbformat_minor": 5
}
